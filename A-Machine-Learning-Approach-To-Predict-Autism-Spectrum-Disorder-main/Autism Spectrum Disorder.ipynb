{
 "cells": [
  {
   "cell_type": "markdown",
   "id": "e153bc90",
   "metadata": {},
   "source": [
    "# Predicting Autism Spectrum Disorder (ASD)"
   ]
  },
  {
   "cell_type": "markdown",
   "id": "aaef4336",
   "metadata": {},
   "source": [
    "### Objectives\n",
    "\n",
    "1. Explore data collected\n",
    "2. Draw insights from trends\n",
    "3. Predict ASD given some characteristics/features"
   ]
  },
  {
   "cell_type": "markdown",
   "id": "b552bb0d",
   "metadata": {},
   "source": [
    "### Project Objectives\n",
    "This project is to build a **Machine Learning Model** to assist in predicting if an individual lives with Autism Spectrum Disorder or not.\n",
    "\n",
    "\n",
    "### Table of Content\n",
    "[**1. Data importation**](#1.Data-Gathering-and-Cleaning)\n",
    "\n",
    "[**2. Exploratory data analysis, data cleaning, and Feature engineering**](#2.Exploratory-data-analysis,data-cleaning,and-Feature-Engineering)\n",
    "\n",
    "[**3. Data preprocessing for modeling**](#3.Data-Preprocessing-for-Modeling)\n",
    "\n",
    "[**4. Building different Classification models**](#4.Building-of-Models)\n",
    "\n",
    "[**5. Model Evaluation**](#5.Model-Evaluation-and-Comparison)\n",
    "\n",
    "[**6. Model selection**](#6.Implementing-the-Best-Model-on-the-Test-Data)\n",
    "\n",
    "7. Feature importance\n",
    "\n",
    "8. Summary"
   ]
  },
  {
   "cell_type": "markdown",
   "id": "136e2085",
   "metadata": {},
   "source": [
    "### Importing the Necessary Packages"
   ]
  },
  {
   "cell_type": "code",
   "execution_count": 5,
   "id": "b13e0dd8",
   "metadata": {
    "scrolled": true
   },
   "outputs": [
    {
     "name": "stderr",
     "output_type": "stream",
     "text": [
      "'pip' is not recognized as an internal or external command,\n",
      "operable program or batch file.\n"
     ]
    }
   ],
   "source": [
    "%pip install bioinfokit"
   ]
  },
  {
   "cell_type": "code",
   "execution_count": 6,
   "id": "0126a0c8",
   "metadata": {},
   "outputs": [
    {
     "ename": "ModuleNotFoundError",
     "evalue": "No module named 'pandas'",
     "output_type": "error",
     "traceback": [
      "\u001b[1;31m---------------------------------------------------------------------------\u001b[0m",
      "\u001b[1;31mModuleNotFoundError\u001b[0m                       Traceback (most recent call last)",
      "Cell \u001b[1;32mIn[6], line 1\u001b[0m\n\u001b[1;32m----> 1\u001b[0m \u001b[39mimport\u001b[39;00m \u001b[39mpandas\u001b[39;00m \u001b[39mas\u001b[39;00m \u001b[39mpd\u001b[39;00m\n\u001b[0;32m      2\u001b[0m \u001b[39mimport\u001b[39;00m \u001b[39mnumpy\u001b[39;00m \u001b[39mas\u001b[39;00m \u001b[39mnp\u001b[39;00m\n\u001b[0;32m      3\u001b[0m \u001b[39mimport\u001b[39;00m \u001b[39mmatplotlib\u001b[39;00m\u001b[39m.\u001b[39;00m\u001b[39mpyplot\u001b[39;00m \u001b[39mas\u001b[39;00m \u001b[39mplt\u001b[39;00m\n",
      "\u001b[1;31mModuleNotFoundError\u001b[0m: No module named 'pandas'"
     ]
    }
   ],
   "source": [
    "import pandas as pd\n",
    "import numpy as np\n",
    "import matplotlib.pyplot as plt\n",
    "import seaborn as sns\n",
    "import missingno as msno\n",
    "import sklearn\n",
    "import warnings\n",
    "warnings.filterwarnings('ignore')\n",
    "from bioinfokit.analys import stat\n",
    "\n",
    "%matplotlib inline"
   ]
  },
  {
   "cell_type": "code",
   "execution_count": null,
   "id": "f53b66c6",
   "metadata": {},
   "outputs": [],
   "source": [
    "# Importing the needed classes for building models,validation, and metrics\n",
    "\n",
    "from sklearn.model_selection import train_test_split\n",
    "from sklearn.model_selection import cross_val_score\n",
    "\n",
    "from sklearn.linear_model import LogisticRegression\n",
    "from sklearn.ensemble import RandomForestClassifier\n",
    "from sklearn.tree import DecisionTreeClassifier\n",
    "from sklearn.svm import SVC\n",
    "from sklearn.ensemble import AdaBoostClassifier\n",
    "\n",
    "from sklearn.preprocessing import StandardScaler\n",
    "\n",
    "from sklearn.pipeline import Pipeline\n",
    "from sklearn.pipeline import make_pipeline\n",
    "from sklearn.model_selection import GridSearchCV\n",
    "\n",
    "from sklearn.metrics import classification_report, confusion_matrix, accuracy_score\n",
    "from sklearn.metrics import confusion_matrix\n",
    "from sklearn.metrics import accuracy_score\n",
    "from sklearn.metrics import f1_score\n"
   ]
  },
  {
   "cell_type": "markdown",
   "id": "cf442a97",
   "metadata": {},
   "source": [
    "## 1.Data-Gathering-and-Cleaning"
   ]
  },
  {
   "cell_type": "markdown",
   "id": "398cb12f",
   "metadata": {},
   "source": [
    "### About the data"
   ]
  },
  {
   "cell_type": "code",
   "execution_count": null,
   "id": "21c4bca3",
   "metadata": {
    "scrolled": true
   },
   "outputs": [
    {
     "name": "stdout",
     "output_type": "stream",
     "text": [
      "The train dataset has 800 rows and 22 columns\n",
      "The test dataset has 200 rows and 21 columns\n"
     ]
    }
   ],
   "source": [
    "# reading data\n",
    "train_data = pd.read_csv(r\"train.csv\")\n",
    "test_data = pd.read_csv(r\"test.csv\")\n",
    "print(f\"The train dataset has {train_data.shape[0]} rows and {train_data.shape[1]} columns\")\n",
    "print(f\"The test dataset has {test_data.shape[0]} rows and {test_data.shape[1]} columns\")"
   ]
  },
  {
   "cell_type": "markdown",
   "id": "8c378768",
   "metadata": {},
   "source": [
    "## 2.Exploratory-data-analysis,data-cleaning,and-Feature-Engineering"
   ]
  },
  {
   "cell_type": "markdown",
   "id": "f3c26054",
   "metadata": {},
   "source": [
    "### Inspecting the data"
   ]
  },
  {
   "cell_type": "code",
   "execution_count": null,
   "id": "2d590827",
   "metadata": {
    "scrolled": true
   },
   "outputs": [
    {
     "data": {
      "text/plain": [
       "0    18\n",
       "1    13\n",
       "2    14\n",
       "3    61\n",
       "4    14\n",
       "5    15\n",
       "6    21\n",
       "7    28\n",
       "8    20\n",
       "9    17\n",
       "Name: age, dtype: int32"
      ]
     },
     "execution_count": 773,
     "metadata": {},
     "output_type": "execute_result"
    }
   ],
   "source": [
    "train_data['age'].head(10)"
   ]
  },
  {
   "cell_type": "code",
   "execution_count": null,
   "id": "91265fe0",
   "metadata": {},
   "outputs": [
    {
     "data": {
      "text/plain": [
       "0    1\n",
       "1    1\n",
       "2    1\n",
       "3    0\n",
       "4    1\n",
       "5    0\n",
       "6    0\n",
       "7    0\n",
       "8    0\n",
       "9    1\n",
       "Name: A10_Score, dtype: int64"
      ]
     },
     "execution_count": 774,
     "metadata": {},
     "output_type": "execute_result"
    }
   ],
   "source": [
    "train_data['A10_Score'].head(10)"
   ]
  },
  {
   "cell_type": "code",
   "execution_count": null,
   "id": "4aa8ca0b",
   "metadata": {
    "scrolled": false
   },
   "outputs": [
    {
     "data": {
      "text/html": [
       "<div>\n",
       "<style scoped>\n",
       "    .dataframe tbody tr th:only-of-type {\n",
       "        vertical-align: middle;\n",
       "    }\n",
       "\n",
       "    .dataframe tbody tr th {\n",
       "        vertical-align: top;\n",
       "    }\n",
       "\n",
       "    .dataframe thead th {\n",
       "        text-align: right;\n",
       "    }\n",
       "</style>\n",
       "<table border=\"1\" class=\"dataframe\">\n",
       "  <thead>\n",
       "    <tr style=\"text-align: right;\">\n",
       "      <th></th>\n",
       "      <th>ID</th>\n",
       "      <th>A1_Score</th>\n",
       "      <th>A2_Score</th>\n",
       "      <th>A3_Score</th>\n",
       "      <th>A4_Score</th>\n",
       "      <th>A5_Score</th>\n",
       "      <th>A6_Score</th>\n",
       "      <th>A7_Score</th>\n",
       "      <th>A8_Score</th>\n",
       "      <th>A9_Score</th>\n",
       "      <th>...</th>\n",
       "      <th>gender</th>\n",
       "      <th>ethnicity</th>\n",
       "      <th>jaundice</th>\n",
       "      <th>austim</th>\n",
       "      <th>contry_of_res</th>\n",
       "      <th>used_app_before</th>\n",
       "      <th>result</th>\n",
       "      <th>age_desc</th>\n",
       "      <th>relation</th>\n",
       "      <th>Class/ASD</th>\n",
       "    </tr>\n",
       "  </thead>\n",
       "  <tbody>\n",
       "    <tr>\n",
       "      <th>0</th>\n",
       "      <td>1</td>\n",
       "      <td>1</td>\n",
       "      <td>0</td>\n",
       "      <td>1</td>\n",
       "      <td>1</td>\n",
       "      <td>1</td>\n",
       "      <td>1</td>\n",
       "      <td>0</td>\n",
       "      <td>1</td>\n",
       "      <td>1</td>\n",
       "      <td>...</td>\n",
       "      <td>f</td>\n",
       "      <td>White-European</td>\n",
       "      <td>no</td>\n",
       "      <td>no</td>\n",
       "      <td>United States</td>\n",
       "      <td>no</td>\n",
       "      <td>7.819715</td>\n",
       "      <td>18 and more</td>\n",
       "      <td>Self</td>\n",
       "      <td>0</td>\n",
       "    </tr>\n",
       "    <tr>\n",
       "      <th>1</th>\n",
       "      <td>2</td>\n",
       "      <td>0</td>\n",
       "      <td>0</td>\n",
       "      <td>0</td>\n",
       "      <td>0</td>\n",
       "      <td>0</td>\n",
       "      <td>0</td>\n",
       "      <td>0</td>\n",
       "      <td>0</td>\n",
       "      <td>0</td>\n",
       "      <td>...</td>\n",
       "      <td>f</td>\n",
       "      <td>South Asian</td>\n",
       "      <td>no</td>\n",
       "      <td>no</td>\n",
       "      <td>Australia</td>\n",
       "      <td>no</td>\n",
       "      <td>10.544296</td>\n",
       "      <td>18 and more</td>\n",
       "      <td>?</td>\n",
       "      <td>0</td>\n",
       "    </tr>\n",
       "    <tr>\n",
       "      <th>2</th>\n",
       "      <td>3</td>\n",
       "      <td>1</td>\n",
       "      <td>1</td>\n",
       "      <td>1</td>\n",
       "      <td>1</td>\n",
       "      <td>1</td>\n",
       "      <td>1</td>\n",
       "      <td>0</td>\n",
       "      <td>0</td>\n",
       "      <td>1</td>\n",
       "      <td>...</td>\n",
       "      <td>f</td>\n",
       "      <td>White-European</td>\n",
       "      <td>no</td>\n",
       "      <td>no</td>\n",
       "      <td>United Kingdom</td>\n",
       "      <td>no</td>\n",
       "      <td>13.167506</td>\n",
       "      <td>18 and more</td>\n",
       "      <td>Self</td>\n",
       "      <td>1</td>\n",
       "    </tr>\n",
       "    <tr>\n",
       "      <th>3</th>\n",
       "      <td>4</td>\n",
       "      <td>0</td>\n",
       "      <td>0</td>\n",
       "      <td>0</td>\n",
       "      <td>1</td>\n",
       "      <td>0</td>\n",
       "      <td>0</td>\n",
       "      <td>0</td>\n",
       "      <td>0</td>\n",
       "      <td>0</td>\n",
       "      <td>...</td>\n",
       "      <td>f</td>\n",
       "      <td>South Asian</td>\n",
       "      <td>no</td>\n",
       "      <td>no</td>\n",
       "      <td>New Zealand</td>\n",
       "      <td>no</td>\n",
       "      <td>1.530098</td>\n",
       "      <td>18 and more</td>\n",
       "      <td>?</td>\n",
       "      <td>0</td>\n",
       "    </tr>\n",
       "    <tr>\n",
       "      <th>4</th>\n",
       "      <td>5</td>\n",
       "      <td>0</td>\n",
       "      <td>0</td>\n",
       "      <td>0</td>\n",
       "      <td>0</td>\n",
       "      <td>1</td>\n",
       "      <td>0</td>\n",
       "      <td>0</td>\n",
       "      <td>0</td>\n",
       "      <td>1</td>\n",
       "      <td>...</td>\n",
       "      <td>m</td>\n",
       "      <td>Black</td>\n",
       "      <td>no</td>\n",
       "      <td>yes</td>\n",
       "      <td>Italy</td>\n",
       "      <td>no</td>\n",
       "      <td>7.949723</td>\n",
       "      <td>18 and more</td>\n",
       "      <td>Self</td>\n",
       "      <td>0</td>\n",
       "    </tr>\n",
       "    <tr>\n",
       "      <th>5</th>\n",
       "      <td>6</td>\n",
       "      <td>1</td>\n",
       "      <td>0</td>\n",
       "      <td>0</td>\n",
       "      <td>0</td>\n",
       "      <td>0</td>\n",
       "      <td>0</td>\n",
       "      <td>0</td>\n",
       "      <td>1</td>\n",
       "      <td>0</td>\n",
       "      <td>...</td>\n",
       "      <td>m</td>\n",
       "      <td>Asian</td>\n",
       "      <td>no</td>\n",
       "      <td>no</td>\n",
       "      <td>Nicaragua</td>\n",
       "      <td>no</td>\n",
       "      <td>7.445003</td>\n",
       "      <td>18 and more</td>\n",
       "      <td>?</td>\n",
       "      <td>0</td>\n",
       "    </tr>\n",
       "    <tr>\n",
       "      <th>6</th>\n",
       "      <td>7</td>\n",
       "      <td>1</td>\n",
       "      <td>1</td>\n",
       "      <td>1</td>\n",
       "      <td>1</td>\n",
       "      <td>1</td>\n",
       "      <td>1</td>\n",
       "      <td>0</td>\n",
       "      <td>1</td>\n",
       "      <td>0</td>\n",
       "      <td>...</td>\n",
       "      <td>f</td>\n",
       "      <td>White-European</td>\n",
       "      <td>no</td>\n",
       "      <td>no</td>\n",
       "      <td>Canada</td>\n",
       "      <td>no</td>\n",
       "      <td>12.598583</td>\n",
       "      <td>18 and more</td>\n",
       "      <td>Self</td>\n",
       "      <td>0</td>\n",
       "    </tr>\n",
       "    <tr>\n",
       "      <th>7</th>\n",
       "      <td>8</td>\n",
       "      <td>0</td>\n",
       "      <td>0</td>\n",
       "      <td>0</td>\n",
       "      <td>0</td>\n",
       "      <td>0</td>\n",
       "      <td>0</td>\n",
       "      <td>0</td>\n",
       "      <td>0</td>\n",
       "      <td>0</td>\n",
       "      <td>...</td>\n",
       "      <td>m</td>\n",
       "      <td>Middle Eastern</td>\n",
       "      <td>yes</td>\n",
       "      <td>no</td>\n",
       "      <td>United Arab Emirates</td>\n",
       "      <td>no</td>\n",
       "      <td>3.525720</td>\n",
       "      <td>18 and more</td>\n",
       "      <td>?</td>\n",
       "      <td>0</td>\n",
       "    </tr>\n",
       "    <tr>\n",
       "      <th>8</th>\n",
       "      <td>9</td>\n",
       "      <td>1</td>\n",
       "      <td>1</td>\n",
       "      <td>1</td>\n",
       "      <td>1</td>\n",
       "      <td>1</td>\n",
       "      <td>1</td>\n",
       "      <td>1</td>\n",
       "      <td>1</td>\n",
       "      <td>1</td>\n",
       "      <td>...</td>\n",
       "      <td>f</td>\n",
       "      <td>White-European</td>\n",
       "      <td>yes</td>\n",
       "      <td>no</td>\n",
       "      <td>United Kingdom</td>\n",
       "      <td>no</td>\n",
       "      <td>11.902461</td>\n",
       "      <td>18 and more</td>\n",
       "      <td>Self</td>\n",
       "      <td>1</td>\n",
       "    </tr>\n",
       "    <tr>\n",
       "      <th>9</th>\n",
       "      <td>10</td>\n",
       "      <td>0</td>\n",
       "      <td>0</td>\n",
       "      <td>0</td>\n",
       "      <td>0</td>\n",
       "      <td>0</td>\n",
       "      <td>0</td>\n",
       "      <td>1</td>\n",
       "      <td>1</td>\n",
       "      <td>0</td>\n",
       "      <td>...</td>\n",
       "      <td>f</td>\n",
       "      <td>?</td>\n",
       "      <td>yes</td>\n",
       "      <td>no</td>\n",
       "      <td>United States</td>\n",
       "      <td>no</td>\n",
       "      <td>8.633346</td>\n",
       "      <td>18 and more</td>\n",
       "      <td>Self</td>\n",
       "      <td>1</td>\n",
       "    </tr>\n",
       "  </tbody>\n",
       "</table>\n",
       "<p>10 rows × 22 columns</p>\n",
       "</div>"
      ],
      "text/plain": [
       "   ID  A1_Score  A2_Score  A3_Score  A4_Score  A5_Score  A6_Score  A7_Score  \\\n",
       "0   1         1         0         1         1         1         1         0   \n",
       "1   2         0         0         0         0         0         0         0   \n",
       "2   3         1         1         1         1         1         1         0   \n",
       "3   4         0         0         0         1         0         0         0   \n",
       "4   5         0         0         0         0         1         0         0   \n",
       "5   6         1         0         0         0         0         0         0   \n",
       "6   7         1         1         1         1         1         1         0   \n",
       "7   8         0         0         0         0         0         0         0   \n",
       "8   9         1         1         1         1         1         1         1   \n",
       "9  10         0         0         0         0         0         0         1   \n",
       "\n",
       "   A8_Score  A9_Score  ...  gender        ethnicity jaundice austim  \\\n",
       "0         1         1  ...       f   White-European       no     no   \n",
       "1         0         0  ...       f      South Asian       no     no   \n",
       "2         0         1  ...       f   White-European       no     no   \n",
       "3         0         0  ...       f      South Asian       no     no   \n",
       "4         0         1  ...       m            Black       no    yes   \n",
       "5         1         0  ...       m            Asian       no     no   \n",
       "6         1         0  ...       f   White-European       no     no   \n",
       "7         0         0  ...       m  Middle Eastern       yes     no   \n",
       "8         1         1  ...       f   White-European      yes     no   \n",
       "9         1         0  ...       f                ?      yes     no   \n",
       "\n",
       "          contry_of_res used_app_before     result     age_desc  relation  \\\n",
       "0         United States              no   7.819715  18 and more      Self   \n",
       "1             Australia              no  10.544296  18 and more         ?   \n",
       "2        United Kingdom              no  13.167506  18 and more      Self   \n",
       "3           New Zealand              no   1.530098  18 and more         ?   \n",
       "4                 Italy              no   7.949723  18 and more      Self   \n",
       "5             Nicaragua              no   7.445003  18 and more         ?   \n",
       "6                Canada              no  12.598583  18 and more      Self   \n",
       "7  United Arab Emirates              no   3.525720  18 and more         ?   \n",
       "8        United Kingdom              no  11.902461  18 and more      Self   \n",
       "9         United States              no   8.633346  18 and more      Self   \n",
       "\n",
       "  Class/ASD  \n",
       "0         0  \n",
       "1         0  \n",
       "2         1  \n",
       "3         0  \n",
       "4         0  \n",
       "5         0  \n",
       "6         0  \n",
       "7         0  \n",
       "8         1  \n",
       "9         1  \n",
       "\n",
       "[10 rows x 22 columns]"
      ]
     },
     "execution_count": 659,
     "metadata": {},
     "output_type": "execute_result"
    }
   ],
   "source": [
    "train_data.head(10)"
   ]
  },
  {
   "cell_type": "markdown",
   "id": "613c537a",
   "metadata": {},
   "source": [
    "**Columns**\n",
    "\n",
    "+ **ID** - ID of the patient\n",
    "\n",
    "+ **A1_Score to A10_Score** - Score based on Autism Spectrum Quotient (AQ) 10 item screening tool\n",
    "\n",
    "+ **age** - Age of the patient in years\n",
    "\n",
    "+ **gender** - Gender of the patient\n",
    "\n",
    "+ **ethnicity** - Ethnicity of the patient\n",
    "\n",
    "+ **jaundice** - Whether the patient had jaundice at the time of birth\n",
    "\n",
    "+ **autism** - Whether an immediate family member has been diagnosed with autism\n",
    "\n",
    "+ **country_of_res** - Country of residence of the patient\n",
    "\n",
    "+ **used_app_before** - Whether the patient has undergone a screening test before\n",
    "\n",
    "+ **result** - Score for AQ1-10 screening test\n",
    "\n",
    "+ **age_desc** - Age of the patient\n",
    "\n",
    "+ **relation** - Relation of patient who completed the test\n",
    "\n",
    "+ **Class/ASD** - Classified result as 0 or 1. Here 0 represents No and 1 represents Yes. This is the target column, and during submission submit the values as 0 or 1 only."
   ]
  },
  {
   "cell_type": "markdown",
   "id": "9dd2b436",
   "metadata": {},
   "source": [
    "### Checking the data types of the different columns"
   ]
  },
  {
   "cell_type": "code",
   "execution_count": null,
   "id": "83084081",
   "metadata": {
    "scrolled": true
   },
   "outputs": [
    {
     "data": {
      "text/plain": [
       "ID                   int64\n",
       "A1_Score             int64\n",
       "A2_Score             int64\n",
       "A3_Score             int64\n",
       "A4_Score             int64\n",
       "A5_Score             int64\n",
       "A6_Score             int64\n",
       "A7_Score             int64\n",
       "A8_Score             int64\n",
       "A9_Score             int64\n",
       "A10_Score            int64\n",
       "age                float64\n",
       "gender              object\n",
       "ethnicity           object\n",
       "jaundice            object\n",
       "austim              object\n",
       "contry_of_res       object\n",
       "used_app_before     object\n",
       "result             float64\n",
       "age_desc            object\n",
       "relation            object\n",
       "Class/ASD            int64\n",
       "dtype: object"
      ]
     },
     "execution_count": 661,
     "metadata": {},
     "output_type": "execute_result"
    }
   ],
   "source": [
    "train_data.dtypes"
   ]
  },
  {
   "cell_type": "markdown",
   "id": "1d552f88",
   "metadata": {},
   "source": [
    "### A little data cleaning"
   ]
  },
  {
   "cell_type": "code",
   "execution_count": null,
   "id": "c1cd6b5a",
   "metadata": {},
   "outputs": [],
   "source": [
    "# fixing spelling mistakes \n",
    "train_data = train_data.rename(columns = {'austim': 'autism', 'contry_of_res':'country_of_res'}, errors=\"raise\")\n",
    "test_data = test_data.rename(columns = {'austim': 'autism', 'contry_of_res':'country_of_res'}, errors=\"raise\")"
   ]
  },
  {
   "cell_type": "code",
   "execution_count": null,
   "id": "dfaea1b0",
   "metadata": {},
   "outputs": [],
   "source": [
    "# changing age datatype from float to int\n",
    "train_data['age'] = train_data['age'].astype('int')\n",
    "test_data['age'] = test_data['age'].astype('int')"
   ]
  },
  {
   "cell_type": "markdown",
   "id": "72d02bdf",
   "metadata": {},
   "source": [
    "### Checking for missing values"
   ]
  },
  {
   "cell_type": "code",
   "execution_count": null,
   "id": "f5a4929c",
   "metadata": {
    "scrolled": false
   },
   "outputs": [
    {
     "data": {
      "text/plain": [
       "ID                 0\n",
       "A1_Score           0\n",
       "A2_Score           0\n",
       "A3_Score           0\n",
       "A4_Score           0\n",
       "A5_Score           0\n",
       "A6_Score           0\n",
       "A7_Score           0\n",
       "A8_Score           0\n",
       "A9_Score           0\n",
       "A10_Score          0\n",
       "age                0\n",
       "gender             0\n",
       "ethnicity          0\n",
       "jaundice           0\n",
       "autism             0\n",
       "country_of_res     0\n",
       "used_app_before    0\n",
       "result             0\n",
       "age_desc           0\n",
       "relation           0\n",
       "Class/ASD          0\n",
       "dtype: int64"
      ]
     },
     "execution_count": 664,
     "metadata": {},
     "output_type": "execute_result"
    }
   ],
   "source": [
    "train_data.isnull().sum()"
   ]
  },
  {
   "cell_type": "code",
   "execution_count": null,
   "id": "648f71a1",
   "metadata": {
    "scrolled": true
   },
   "outputs": [
    {
     "data": {
      "text/plain": [
       "ID                 0\n",
       "A1_Score           0\n",
       "A2_Score           0\n",
       "A3_Score           0\n",
       "A4_Score           0\n",
       "A5_Score           0\n",
       "A6_Score           0\n",
       "A7_Score           0\n",
       "A8_Score           0\n",
       "A9_Score           0\n",
       "A10_Score          0\n",
       "age                0\n",
       "gender             0\n",
       "ethnicity          0\n",
       "jaundice           0\n",
       "autism             0\n",
       "country_of_res     0\n",
       "used_app_before    0\n",
       "result             0\n",
       "age_desc           0\n",
       "relation           0\n",
       "dtype: int64"
      ]
     },
     "execution_count": 665,
     "metadata": {},
     "output_type": "execute_result"
    }
   ],
   "source": [
    "test_data.isnull().sum()"
   ]
  },
  {
   "cell_type": "code",
   "execution_count": null,
   "id": "57cfb399",
   "metadata": {},
   "outputs": [
    {
     "data": {
      "image/png": "[encoded data removed]",
      "text/plain": [
       "<Figure size 1800x720 with 2 Axes>"
      ]
     },
     "metadata": {
      "needs_background": "light"
     },
     "output_type": "display_data"
    }
   ],
   "source": [
    "# visualizing missing values\n",
    "msno.matrix(train_data,color=(0.25, 0.25, 0.25))\n",
    "plt.show()"
   ]
  },
  {
   "cell_type": "markdown",
   "id": "e2a1e08c",
   "metadata": {},
   "source": [
    "* A brief inspection of the data reveals that there are no missing values"
   ]
  },
  {
   "cell_type": "markdown",
   "id": "cb3ee2db",
   "metadata": {},
   "source": [
    "### Inspecting, Exploring and Cleaning Categorical variables"
   ]
  },
  {
   "cell_type": "code",
   "execution_count": null,
   "id": "3d7f9ad1",
   "metadata": {},
   "outputs": [],
   "source": [
    "categorical_var = train_data.select_dtypes(include = 'object')\n",
    "numerical_var = train_data.select_dtypes(include = np.number)"
   ]
  },
  {
   "cell_type": "code",
   "execution_count": null,
   "id": "4ec40c80",
   "metadata": {},
   "outputs": [
    {
     "name": "stdout",
     "output_type": "stream",
     "text": [
      "gender\n",
      "ethnicity\n",
      "jaundice\n",
      "autism\n",
      "country_of_res\n",
      "used_app_before\n",
      "age_desc\n",
      "relation\n"
     ]
    }
   ],
   "source": [
    "for cat in categorical_var:\n",
    "    print(cat)"
   ]
  },
  {
   "cell_type": "code",
   "execution_count": null,
   "id": "a01e2993",
   "metadata": {},
   "outputs": [],
   "source": [
    "# function that updates datatype of columns in dataframe\n",
    "def dtype_update(dataframe, columns, datatype):\n",
    "    for column in columns:\n",
    "        dataframe[str(column)] = dataframe[str(column)].astype(datatype)\n",
    "        print(f\"{column} datatype = {dataframe[str(column)].dtypes}\")"
   ]
  },
  {
   "cell_type": "code",
   "execution_count": null,
   "id": "bb2a27d0",
   "metadata": {
    "scrolled": true
   },
   "outputs": [
    {
     "name": "stdout",
     "output_type": "stream",
     "text": [
      "gender datatype = category\n",
      "ethnicity datatype = category\n",
      "jaundice datatype = category\n",
      "autism datatype = category\n",
      "country_of_res datatype = category\n",
      "used_app_before datatype = category\n",
      "age_desc datatype = category\n",
      "relation datatype = category\n"
     ]
    }
   ],
   "source": [
    "# updating columns with object dtype to category\n",
    "dtype_update(train_data, categorical_var, 'category')"
   ]
  },
  {
   "cell_type": "code",
   "execution_count": null,
   "id": "386b3e60",
   "metadata": {
    "scrolled": true
   },
   "outputs": [],
   "source": [
    "#more_cat_var = train_data[['A1_Score', 'A2_Score', 'A3_Score', 'A4_Score', 'A5_Score', 'A6_Score', 'A7_Score', 'A8_Score', 'A9_Score', 'A10_Score']]\n",
    "#dtype_update(train_data, more_cat_var, 'category')"
   ]
  },
  {
   "cell_type": "markdown",
   "id": "e012b521",
   "metadata": {},
   "source": [
    "### Creating a function to explore the categorical variables\n",
    "\n",
    "To easily explore the explore, the categorical variables a function created to give a quick numerical and graphical summary.\n"
   ]
  },
  {
   "cell_type": "code",
   "execution_count": null,
   "id": "7c8bcaf9",
   "metadata": {},
   "outputs": [],
   "source": [
    "# function to explore the categorical variables\n",
    "\n",
    "def explore_cat(dataframe,column):\n",
    "    '''\n",
    "    This function returns a summary of a categorical variable\n",
    "    '''\n",
    "    unique_categories = dataframe[column].nunique()\n",
    "    if unique_categories <= 5:\n",
    "        print('Summary')\n",
    "        print('====================================================')\n",
    "        print(dataframe[column].describe(),'\\n')\n",
    "        sns.countplot(dataframe[column], palette='hls')\n",
    "        plt.show()\n",
    "        print('====================================================')\n",
    "        print('Value counts \\n')\n",
    "        print(dataframe[column].value_counts(), '\\n')\n",
    "        print()\n",
    "    else:\n",
    "        print('Summary')\n",
    "        print('====================================================')\n",
    "        print(dataframe[column].describe(),'\\n')\n",
    "        sns.countplot(y=dataframe[column], palette='hls')\n",
    "        plt.show()\n",
    "        print('====================================================')\n",
    "        print('Value counts \\n')\n",
    "        print(dataframe[column].value_counts(), '\\n')\n",
    "    "
   ]
  },
  {
   "cell_type": "markdown",
   "id": "1d919087",
   "metadata": {},
   "source": [
    "### Exploring Gender"
   ]
  },
  {
   "cell_type": "code",
   "execution_count": null,
   "id": "1b81e960",
   "metadata": {
    "scrolled": true
   },
   "outputs": [
    {
     "name": "stdout",
     "output_type": "stream",
     "text": [
      "Summary\n",
      "====================================================\n",
      "count     800\n",
      "unique      2\n",
      "top         f\n",
      "freq      415\n",
      "Name: gender, dtype: object \n",
      "\n"
     ]
    },
    {
     "data": {
      "image/png": "[encoded data removed]",
      "text/plain": [
       "<Figure size 432x288 with 1 Axes>"
      ]
     },
     "metadata": {
      "needs_background": "light"
     },
     "output_type": "display_data"
    },
    {
     "name": "stdout",
     "output_type": "stream",
     "text": [
      "====================================================\n",
      "Value counts \n",
      "\n",
      "f    415\n",
      "m    385\n",
      "Name: gender, dtype: int64 \n",
      "\n",
      "\n"
     ]
    }
   ],
   "source": [
    "explore_cat(train_data,'gender')"
   ]
  },
  {
   "cell_type": "markdown",
   "id": "b313388b",
   "metadata": {},
   "source": [
    "+ From exploring the gender variable, it is observed that there were two unique categories; male and female.\n",
    "+ There are however more females than males but the difference is not significant hence we say they are fairly balanced."
   ]
  },
  {
   "cell_type": "markdown",
   "id": "6eee93a1",
   "metadata": {},
   "source": [
    "### Exploring Ethnicity"
   ]
  },
  {
   "cell_type": "code",
   "execution_count": null,
   "id": "c0cd4824",
   "metadata": {
    "scrolled": true
   },
   "outputs": [
    {
     "name": "stdout",
     "output_type": "stream",
     "text": [
      "Summary\n",
      "====================================================\n",
      "count                800\n",
      "unique                12\n",
      "top       White-European\n",
      "freq                 211\n",
      "Name: ethnicity, dtype: object \n",
      "\n"
     ]
    },
    {
     "data": {
      "image/png": "[encoded data removed]",
      "text/plain": [
       "<Figure size 432x288 with 1 Axes>"
      ]
     },
     "metadata": {
      "needs_background": "light"
     },
     "output_type": "display_data"
    },
    {
     "name": "stdout",
     "output_type": "stream",
     "text": [
      "====================================================\n",
      "Value counts \n",
      "\n",
      "White-European     211\n",
      "?                  151\n",
      "Asian              134\n",
      "Middle Eastern     116\n",
      "Black               45\n",
      "Latino              44\n",
      "South Asian         35\n",
      "Others              24\n",
      "Pasifika            18\n",
      "Hispanic            16\n",
      "Turkish              4\n",
      "others               2\n",
      "Name: ethnicity, dtype: int64 \n",
      "\n"
     ]
    }
   ],
   "source": [
    "explore_cat(train_data,'ethnicity')"
   ]
  },
  {
   "cell_type": "markdown",
   "id": "308f72c2",
   "metadata": {},
   "source": [
    "+ It is observed that there were twelve unique categories including one with '?' which could be unknown/'prefer not to say'.\n",
    "+ '?' category has the second highest count and therefore will not be dropped as very important information may be lost as a result\n",
    "+ White Europeans had the highest count, followed by '?' and others having the least with a count of two."
   ]
  },
  {
   "cell_type": "markdown",
   "id": "545cc41d",
   "metadata": {},
   "source": [
    "### Exploring Jaundice"
   ]
  },
  {
   "cell_type": "code",
   "execution_count": null,
   "id": "db17eca9",
   "metadata": {
    "scrolled": false
   },
   "outputs": [
    {
     "name": "stdout",
     "output_type": "stream",
     "text": [
      "Summary\n",
      "====================================================\n",
      "count     800\n",
      "unique      2\n",
      "top        no\n",
      "freq      604\n",
      "Name: jaundice, dtype: object \n",
      "\n"
     ]
    },
    {
     "data": {
      "image/png": "[encoded data removed]",
      "text/plain": [
       "<Figure size 432x288 with 1 Axes>"
      ]
     },
     "metadata": {
      "needs_background": "light"
     },
     "output_type": "display_data"
    },
    {
     "name": "stdout",
     "output_type": "stream",
     "text": [
      "====================================================\n",
      "Value counts \n",
      "\n",
      "no     604\n",
      "yes    196\n",
      "Name: jaundice, dtype: int64 \n",
      "\n",
      "\n"
     ]
    }
   ],
   "source": [
    "explore_cat(train_data,'jaundice')"
   ]
  },
  {
   "cell_type": "markdown",
   "id": "19aa2932",
   "metadata": {},
   "source": [
    "+ The categories are imbalanced.The number of patients who did not have jaundice at birth are about 75.5% "
   ]
  },
  {
   "cell_type": "markdown",
   "id": "d2ce83ad",
   "metadata": {},
   "source": [
    "### Exploring Autism"
   ]
  },
  {
   "cell_type": "code",
   "execution_count": null,
   "id": "3185c88c",
   "metadata": {
    "scrolled": true
   },
   "outputs": [
    {
     "name": "stdout",
     "output_type": "stream",
     "text": [
      "Summary\n",
      "====================================================\n",
      "count     800\n",
      "unique      2\n",
      "top        no\n",
      "freq      683\n",
      "Name: autism, dtype: object \n",
      "\n"
     ]
    },
    {
     "data": {
      "image/png": "[encoded data removed]",
      "text/plain": [
       "<Figure size 432x288 with 1 Axes>"
      ]
     },
     "metadata": {
      "needs_background": "light"
     },
     "output_type": "display_data"
    },
    {
     "name": "stdout",
     "output_type": "stream",
     "text": [
      "====================================================\n",
      "Value counts \n",
      "\n",
      "no     683\n",
      "yes    117\n",
      "Name: autism, dtype: int64 \n",
      "\n",
      "\n"
     ]
    }
   ],
   "source": [
    "explore_cat(train_data,'autism')"
   ]
  },
  {
   "cell_type": "markdown",
   "id": "fd246905",
   "metadata": {},
   "source": [
    "+ The categories here are heavily imbalanced as well.\n",
    "+ The number of patients who did not have an immediate family member being diagnosed with autism is about 85%\n",
    "+ And 15% for patients who have an immediate family member being diagnosed with autism"
   ]
  },
  {
   "cell_type": "markdown",
   "id": "532a92a0",
   "metadata": {},
   "source": [
    "### Exploring Country of Residence"
   ]
  },
  {
   "cell_type": "code",
   "execution_count": null,
   "id": "c4d58d76",
   "metadata": {
    "scrolled": true
   },
   "outputs": [],
   "source": [
    "# explore_cat(train_data,'country_of_res')"
   ]
  },
  {
   "cell_type": "code",
   "execution_count": null,
   "id": "3cc67f3d",
   "metadata": {},
   "outputs": [],
   "source": [
    "#sns.histplot(train_data['country_of_res']) "
   ]
  },
  {
   "cell_type": "markdown",
   "id": "25ad0d20",
   "metadata": {},
   "source": [
    "### Exploring Used_App_Before"
   ]
  },
  {
   "cell_type": "code",
   "execution_count": null,
   "id": "560625e6",
   "metadata": {
    "scrolled": false
   },
   "outputs": [
    {
     "name": "stdout",
     "output_type": "stream",
     "text": [
      "Summary\n",
      "====================================================\n",
      "count     800\n",
      "unique      2\n",
      "top        no\n",
      "freq      765\n",
      "Name: used_app_before, dtype: object \n",
      "\n"
     ]
    },
    {
     "data": {
      "image/png": "[encoded data removed]",
      "text/plain": [
       "<Figure size 432x288 with 1 Axes>"
      ]
     },
     "metadata": {
      "needs_background": "light"
     },
     "output_type": "display_data"
    },
    {
     "name": "stdout",
     "output_type": "stream",
     "text": [
      "====================================================\n",
      "Value counts \n",
      "\n",
      "no     765\n",
      "yes     35\n",
      "Name: used_app_before, dtype: int64 \n",
      "\n",
      "\n"
     ]
    }
   ],
   "source": [
    "explore_cat(train_data,'used_app_before')"
   ]
  },
  {
   "cell_type": "markdown",
   "id": "1c1b0a5d",
   "metadata": {},
   "source": [
    "+ From the graph, about 95% of the patients have not undergone a screening test before"
   ]
  },
  {
   "cell_type": "markdown",
   "id": "f39cfdab",
   "metadata": {},
   "source": [
    "### Exploring Age Description"
   ]
  },
  {
   "cell_type": "code",
   "execution_count": null,
   "id": "f2dcec7f",
   "metadata": {
    "scrolled": true
   },
   "outputs": [
    {
     "name": "stdout",
     "output_type": "stream",
     "text": [
      "Summary\n",
      "====================================================\n",
      "count             800\n",
      "unique              1\n",
      "top       18 and more\n",
      "freq              800\n",
      "Name: age_desc, dtype: object \n",
      "\n"
     ]
    },
    {
     "data": {
      "image/png": "[encoded data removed]",
      "text/plain": [
       "<Figure size 432x288 with 1 Axes>"
      ]
     },
     "metadata": {
      "needs_background": "light"
     },
     "output_type": "display_data"
    },
    {
     "name": "stdout",
     "output_type": "stream",
     "text": [
      "====================================================\n",
      "Value counts \n",
      "\n",
      "18 and more    800\n",
      "Name: age_desc, dtype: int64 \n",
      "\n",
      "\n"
     ]
    }
   ],
   "source": [
    "explore_cat(train_data,'age_desc')"
   ]
  },
  {
   "cell_type": "markdown",
   "id": "8a851015",
   "metadata": {},
   "source": [
    "+ There's only one category in this variable which says the same thing for all\n",
    "+ This column will be dropped from the input features as there's already an age column and does not add any more necessary info"
   ]
  },
  {
   "cell_type": "markdown",
   "id": "c81665ab",
   "metadata": {},
   "source": [
    "**Dropping 'age_desc' column**"
   ]
  },
  {
   "cell_type": "code",
   "execution_count": null,
   "id": "ef516293",
   "metadata": {},
   "outputs": [],
   "source": [
    "train_data.drop('age_desc', axis=1, inplace=True)"
   ]
  },
  {
   "cell_type": "code",
   "execution_count": null,
   "id": "cca1fd67",
   "metadata": {},
   "outputs": [
    {
     "data": {
      "text/plain": [
       "(800, 21)"
      ]
     },
     "execution_count": 682,
     "metadata": {},
     "output_type": "execute_result"
    }
   ],
   "source": [
    "train_data.shape"
   ]
  },
  {
   "cell_type": "markdown",
   "id": "a371f648",
   "metadata": {},
   "source": [
    "### Exploring Relation"
   ]
  },
  {
   "cell_type": "code",
   "execution_count": null,
   "id": "f3aad943",
   "metadata": {
    "scrolled": true
   },
   "outputs": [
    {
     "name": "stdout",
     "output_type": "stream",
     "text": [
      "Summary\n",
      "====================================================\n",
      "count      800\n",
      "unique       6\n",
      "top       Self\n",
      "freq       617\n",
      "Name: relation, dtype: object \n",
      "\n"
     ]
    },
    {
     "data": {
      "image/png": "[encoded data removed]",
      "text/plain": [
       "<Figure size 432x288 with 1 Axes>"
      ]
     },
     "metadata": {
      "needs_background": "light"
     },
     "output_type": "display_data"
    },
    {
     "name": "stdout",
     "output_type": "stream",
     "text": [
      "====================================================\n",
      "Value counts \n",
      "\n",
      "Self                        617\n",
      "?                            77\n",
      "Parent                       49\n",
      "Relative                     43\n",
      "Health care professional      7\n",
      "Others                        7\n",
      "Name: relation, dtype: int64 \n",
      "\n"
     ]
    }
   ],
   "source": [
    "explore_cat(train_data,'relation')"
   ]
  },
  {
   "cell_type": "markdown",
   "id": "0a3bc3f2",
   "metadata": {},
   "source": [
    "+ There are six unique categories of relations of patients who completed the test. \n",
    "+ The majority of about 77% completed the tests by themselves\n",
    "+ Followed by '?' which we can assume to be anonymous or 'prefer not to say' at about 10%\n",
    "+ Health care professionals and others have the least count with about 0.9% each"
   ]
  },
  {
   "cell_type": "markdown",
   "id": "6c380171",
   "metadata": {},
   "source": [
    "### Exploring target variable (Class/ASD)"
   ]
  },
  {
   "cell_type": "code",
   "execution_count": null,
   "id": "ea82739e",
   "metadata": {
    "scrolled": true
   },
   "outputs": [
    {
     "name": "stdout",
     "output_type": "stream",
     "text": [
      "Summary\n",
      "====================================================\n",
      "count    800.000000\n",
      "mean       0.231250\n",
      "std        0.421896\n",
      "min        0.000000\n",
      "25%        0.000000\n",
      "50%        0.000000\n",
      "75%        0.000000\n",
      "max        1.000000\n",
      "Name: Class/ASD, dtype: float64 \n",
      "\n"
     ]
    },
    {
     "data": {
      "image/png": "[encoded data removed]",
      "text/plain": [
       "<Figure size 432x288 with 1 Axes>"
      ]
     },
     "metadata": {
      "needs_background": "light"
     },
     "output_type": "display_data"
    },
    {
     "name": "stdout",
     "output_type": "stream",
     "text": [
      "====================================================\n",
      "Value counts \n",
      "\n",
      "0    615\n",
      "1    185\n",
      "Name: Class/ASD, dtype: int64 \n",
      "\n",
      "\n"
     ]
    }
   ],
   "source": [
    "explore_cat(train_data,'Class/ASD')"
   ]
  },
  {
   "cell_type": "markdown",
   "id": "1870562a",
   "metadata": {},
   "source": [
    "+ The target variable is highly imbalanced.\n",
    "+ Patients who tested negative for ASD are about 77%\n"
   ]
  },
  {
   "cell_type": "markdown",
   "id": "ca1d20aa",
   "metadata": {},
   "source": [
    "### Further Exploration of Categorical Variables"
   ]
  },
  {
   "cell_type": "markdown",
   "id": "aeedc429",
   "metadata": {},
   "source": [
    "**Checking the association beween other categorical variables and Class/ASD with Chi-Square test**\n",
    "\n",
    "In this section, Chi-Square test is carried out just to have an idea about the relationships among the categorical variables."
   ]
  },
  {
   "cell_type": "markdown",
   "id": "0ddb5e46",
   "metadata": {},
   "source": [
    "#### Chi-Square Test Function"
   ]
  },
  {
   "cell_type": "code",
   "execution_count": null,
   "id": "0bd0fef9",
   "metadata": {},
   "outputs": [],
   "source": [
    "def chisq_test(df,x,y):\n",
    "    '''\n",
    "    This function displays conducts a chi-square test and displays the output\n",
    "    '''\n",
    "    table = pd.crosstab(df[x],df[y])\n",
    "    test=stat()\n",
    "    test.chisq(df=table)\n",
    "    \n",
    "    \n",
    "    print('Null hypothesis: {} and {} are Independent'.format(x,y))\n",
    "    print('Alternative hypothesis: {} and {} are Dependent\\n'.format(x,y))\n",
    "    print('Test results')\n",
    "    print('='*55)\n",
    "    print('Observed frequency values \\n')\n",
    "    print(table)\n",
    "    \n",
    "    print('*'*55)\n",
    "    print(test.expected_df)\n",
    "    print('*'*55)\n",
    "    print(test.summary)"
   ]
  },
  {
   "cell_type": "markdown",
   "id": "c1e9830d",
   "metadata": {},
   "source": [
    "### Correlation between ASD Diagnosis and Gender"
   ]
  },
  {
   "cell_type": "code",
   "execution_count": null,
   "id": "2214d7f3",
   "metadata": {
    "scrolled": true
   },
   "outputs": [
    {
     "name": "stdout",
     "output_type": "stream",
     "text": [
      "Null hypothesis: Class/ASD and gender are Independent\n",
      "Alternative hypothesis: Class/ASD and gender are Dependent\n",
      "\n",
      "Test results\n",
      "=======================================================\n",
      "Observed frequency values \n",
      "\n",
      "gender       f    m\n",
      "Class/ASD          \n",
      "0          298  317\n",
      "1          117   68\n",
      "*******************************************************\n",
      "\n",
      "Expected frequency counts\n",
      "\n",
      "           f         m\n",
      "--  --------  --------\n",
      " 0  319.031   295.969\n",
      " 1   95.9688   89.0312\n",
      "\n",
      "*******************************************************\n",
      "\n",
      "Chi-squared test for independence\n",
      "\n",
      "Test              Df    Chi-square      P-value\n",
      "--------------  ----  ------------  -----------\n",
      "Pearson            1       11.8726  0.000569665\n",
      "Log-likelihood     1       11.9993  0.000532196\n",
      "\n"
     ]
    }
   ],
   "source": [
    "chisq_test(train_data, 'Class/ASD', 'gender')"
   ]
  },
  {
   "cell_type": "markdown",
   "id": "5da6b222",
   "metadata": {},
   "source": [
    "+ With chi square test you need a value of more than 0.05 in order to conclude the variables are independent of one another.\n",
    "\n",
    "+ From the test results,the p_value is 0.000569665.\n",
    "\n",
    "+ This implies that we must reject the null hypothesis and conclude the variables (Class/ASD and gender) are correlated."
   ]
  },
  {
   "cell_type": "markdown",
   "id": "5cb54fef",
   "metadata": {},
   "source": [
    "### Correlation between ASD Diagnosis and Ethnicity"
   ]
  },
  {
   "cell_type": "code",
   "execution_count": null,
   "id": "f493d93a",
   "metadata": {},
   "outputs": [
    {
     "name": "stdout",
     "output_type": "stream",
     "text": [
      "Null hypothesis: Class/ASD and ethnicity are Independent\n",
      "Alternative hypothesis: Class/ASD and ethnicity are Dependent\n",
      "\n",
      "Test results\n",
      "=======================================================\n",
      "Observed frequency values \n",
      "\n",
      "ethnicity    ?  Asian  Black  Hispanic  Latino  Middle Eastern   Others  \\\n",
      "Class/ASD                                                                 \n",
      "0          136    117     37        11      29              108      19   \n",
      "1           15     17      8         5      15                8       5   \n",
      "\n",
      "ethnicity  Pasifika  South Asian  Turkish  White-European  others  \n",
      "Class/ASD                                                          \n",
      "0                17           34        3             103       1  \n",
      "1                 1            1        1             108       1  \n",
      "*******************************************************\n",
      "\n",
      "Expected frequency counts\n",
      "\n",
      "           ?     Asian    Black    Hispanic    Latino    Middle Eastern     Others    Pasifika    South Asian    Turkish    White-European    others\n",
      "--  --------  --------  -------  ----------  --------  -----------------  --------  ----------  -------------  ---------  ----------------  --------\n",
      " 0  116.081   103.013   34.5938        12.3    33.825             89.175     18.45     13.8375       26.9062       3.075          162.206     1.5375\n",
      " 1   34.9188   30.9875  10.4062         3.7    10.175             26.825      5.55      4.1625        8.09375      0.925           48.7938    0.4625\n",
      "\n",
      "*******************************************************\n",
      "\n",
      "Chi-squared test for independence\n",
      "\n",
      "Test              Df    Chi-square      P-value\n",
      "--------------  ----  ------------  -----------\n",
      "Pearson           11       150.028  1.47082e-26\n",
      "Log-likelihood    11       147.862  4.07225e-26\n",
      "\n"
     ]
    }
   ],
   "source": [
    "chisq_test(train_data, 'Class/ASD', 'ethnicity')"
   ]
  },
  {
   "cell_type": "markdown",
   "id": "1430396f",
   "metadata": {},
   "source": [
    "+ From the test results,the p_value is 1.47082e-26.\n",
    "\n",
    "+ This implies that we must reject the null hypothesis and conclude the variables (Class/ASD and ethnicity) are correlated."
   ]
  },
  {
   "cell_type": "markdown",
   "id": "67092cd1",
   "metadata": {},
   "source": [
    "### Correlation between ASD Diagnosis and having Jaundice at birth"
   ]
  },
  {
   "cell_type": "code",
   "execution_count": null,
   "id": "cbaf7a4b",
   "metadata": {},
   "outputs": [
    {
     "name": "stdout",
     "output_type": "stream",
     "text": [
      "Null hypothesis: Class/ASD and jaundice are Independent\n",
      "Alternative hypothesis: Class/ASD and jaundice are Dependent\n",
      "\n",
      "Test results\n",
      "=======================================================\n",
      "Observed frequency values \n",
      "\n",
      "jaundice    no  yes\n",
      "Class/ASD          \n",
      "0          492  123\n",
      "1          112   73\n",
      "*******************************************************\n",
      "\n",
      "Expected frequency counts\n",
      "\n",
      "         no      yes\n",
      "--  -------  -------\n",
      " 0  464.325  150.675\n",
      " 1  139.675   45.325\n",
      "\n",
      "*******************************************************\n",
      "\n",
      "Chi-squared test for independence\n",
      "\n",
      "Test              Df    Chi-square      P-value\n",
      "--------------  ----  ------------  -----------\n",
      "Pearson            1       28.0717  1.16901e-07\n",
      "Log-likelihood     1       26.2143  3.05548e-07\n",
      "\n"
     ]
    }
   ],
   "source": [
    "chisq_test(train_data, 'Class/ASD', 'jaundice')"
   ]
  },
  {
   "cell_type": "markdown",
   "id": "ddd10550",
   "metadata": {},
   "source": [
    "+ From the test results,the p_value is 1.16901e-07.\n",
    "\n",
    "+ This implies that we must reject the null hypothesis and conclude the variables (Class/ASD and jaundice) are correlated."
   ]
  },
  {
   "cell_type": "markdown",
   "id": "84f97fb6",
   "metadata": {},
   "source": [
    "### Correlation between ASD Diagnosis and Family member of patient having Autism"
   ]
  },
  {
   "cell_type": "code",
   "execution_count": null,
   "id": "c1d58544",
   "metadata": {
    "scrolled": true
   },
   "outputs": [
    {
     "name": "stdout",
     "output_type": "stream",
     "text": [
      "Null hypothesis: Class/ASD and autism are Independent\n",
      "Alternative hypothesis: Class/ASD and autism are Dependent\n",
      "\n",
      "Test results\n",
      "=======================================================\n",
      "Observed frequency values \n",
      "\n",
      "autism      no  yes\n",
      "Class/ASD          \n",
      "0          570   45\n",
      "1          113   72\n",
      "*******************************************************\n",
      "\n",
      "Expected frequency counts\n",
      "\n",
      "         no      yes\n",
      "--  -------  -------\n",
      " 0  525.056  89.9437\n",
      " 1  157.944  27.0562\n",
      "\n",
      "*******************************************************\n",
      "\n",
      "Chi-squared test for independence\n",
      "\n",
      "Test              Df    Chi-square      P-value\n",
      "--------------  ----  ------------  -----------\n",
      "Pearson            1      111.234   5.25803e-26\n",
      "Log-likelihood     1       94.4891  2.46446e-22\n",
      "\n"
     ]
    }
   ],
   "source": [
    "chisq_test(train_data, 'Class/ASD', 'autism')"
   ]
  },
  {
   "cell_type": "markdown",
   "id": "f1ae19a5",
   "metadata": {},
   "source": [
    "+ From the test results,the p_value is 5.25803e-26.\n",
    "\n",
    "+ This implies that we must reject the null hypothesis and conclude the variables (Class/ASD and autism) are correlated."
   ]
  },
  {
   "cell_type": "markdown",
   "id": "07cafb8c",
   "metadata": {},
   "source": [
    "### Correlation between ASD Diagnosis and Country of Residence"
   ]
  },
  {
   "cell_type": "code",
   "execution_count": null,
   "id": "9ab1b447",
   "metadata": {},
   "outputs": [
    {
     "name": "stdout",
     "output_type": "stream",
     "text": [
      "Null hypothesis: Class/ASD and country_of_res are Independent\n",
      "Alternative hypothesis: Class/ASD and country_of_res are Dependent\n",
      "\n",
      "Test results\n",
      "=======================================================\n",
      "Observed frequency values \n",
      "\n",
      "country_of_res  Afghanistan  AmericanSamoa  Angola  Argentina  Armenia  Aruba  \\\n",
      "Class/ASD                                                                       \n",
      "0                        21              2       2          2        4      2   \n",
      "1                         2              0       0          0        2      1   \n",
      "\n",
      "country_of_res  Australia  Austria  Azerbaijan  Bahamas  ...  Spain  \\\n",
      "Class/ASD                                                ...          \n",
      "0                      26        9           2        3  ...      4   \n",
      "1                      17        3           0        0  ...      1   \n",
      "\n",
      "country_of_res  Sri Lanka  Sweden  Tonga  Ukraine  United Arab Emirates  \\\n",
      "Class/ASD                                                                 \n",
      "0                      13       1      1        3                    88   \n",
      "1                       3       0      0        0                     6   \n",
      "\n",
      "country_of_res  United Kingdom  United States  Uruguay  Viet Nam  \n",
      "Class/ASD                                                         \n",
      "0                           34             74        1         6  \n",
      "1                           24             74        0         0  \n",
      "\n",
      "[2 rows x 61 columns]\n",
      "*******************************************************\n",
      "\n",
      "Expected frequency counts\n",
      "\n",
      "      Afghanistan    AmericanSamoa    Angola    Argentina    Armenia    Aruba    Australia    Austria    Azerbaijan    Bahamas    Bangladesh    Belgium    Bolivia    Brazil    Canada    China    Costa Rica    Cyprus    Czech Republic    Ecuador    Egypt    Ethiopia    Finland    France    Germany    Hong Kong    Iceland    India    Indonesia     Iran     Iraq    Ireland    Italy    Japan    Jordan    Kazakhstan    Malaysia    Mexico    Netherlands    New Zealand    Nicaragua    Niger     Oman    Pakistan    Philippines    Romania    Russia    Saudi Arabia    Serbia    Sierra Leone    South Africa    Spain    Sri Lanka    Sweden    Tonga    Ukraine    United Arab Emirates    United Kingdom    United States    Uruguay    Viet Nam\n",
      "--  -------------  ---------------  --------  -----------  ---------  -------  -----------  ---------  ------------  ---------  ------------  ---------  ---------  --------  --------  -------  ------------  --------  ----------------  ---------  -------  ----------  ---------  --------  ---------  -----------  ---------  -------  -----------  -------  -------  ---------  -------  -------  --------  ------------  ----------  --------  -------------  -------------  -----------  -------  -------  ----------  -------------  ---------  --------  --------------  --------  --------------  --------------  -------  -----------  --------  -------  ---------  ----------------------  ----------------  ---------------  ---------  ----------\n",
      " 0       17.6812            1.5375    1.5375       1.5375     4.6125  2.30625     33.0562       9.225        1.5375    2.30625       0.76875    2.30625    2.30625   6.91875  11.5312    1.5375         3.075   0.76875           2.30625    0.76875  3.84375     2.30625    0.76875     9.225    2.30625      0.76875     1.5375  56.8875      0.76875  3.84375  0.76875    2.30625  8.45625   1.5375     30.75       5.38125     3.84375    4.6125        10.7625        71.4938        3.075  0.76875  0.76875      1.5375         4.6125    2.30625   6.91875           3.075    1.5375         0.76875         3.84375  3.84375         12.3   0.76875  0.76875    2.30625                 72.2625           44.5875          113.775    0.76875      4.6125\n",
      " 1        5.31875           0.4625    0.4625       0.4625     1.3875  0.69375      9.94375      2.775        0.4625    0.69375       0.23125    0.69375    0.69375   2.08125   3.46875   0.4625         0.925   0.23125           0.69375    0.23125  1.15625     0.69375    0.23125     2.775    0.69375      0.23125     0.4625  17.1125      0.23125  1.15625  0.23125    0.69375  2.54375   0.4625      9.25       1.61875     1.15625    1.3875         3.2375        21.5063        0.925  0.23125  0.23125      0.4625         1.3875    0.69375   2.08125           0.925    0.4625         0.23125         1.15625  1.15625          3.7   0.23125  0.23125    0.69375                 21.7375           13.4125           34.225    0.23125      1.3875\n",
      "\n",
      "*******************************************************\n",
      "\n",
      "Chi-squared test for independence\n",
      "\n",
      "Test              Df    Chi-square      P-value\n",
      "--------------  ----  ------------  -----------\n",
      "Pearson           60       149.524  1.34608e-09\n",
      "Log-likelihood    60       161.994  2.57415e-11\n",
      "\n"
     ]
    }
   ],
   "source": [
    "chisq_test(train_data, 'Class/ASD', 'country_of_res')"
   ]
  },
  {
   "cell_type": "markdown",
   "id": "6eb58c19",
   "metadata": {},
   "source": [
    "+ From the test results,the p_value is 1.34608e-09.\n",
    "\n",
    "+ This implies that we must reject the null hypothesis and conclude the variables (Class/ASD and country_of_res) are correlated."
   ]
  },
  {
   "cell_type": "markdown",
   "id": "ab0f05df",
   "metadata": {},
   "source": [
    "### Correlation between ASD Diagnosis and whether he patient has undergone a screening test before"
   ]
  },
  {
   "cell_type": "code",
   "execution_count": null,
   "id": "3c8d7e28",
   "metadata": {},
   "outputs": [
    {
     "name": "stdout",
     "output_type": "stream",
     "text": [
      "Null hypothesis: Class/ASD and used_app_before are Independent\n",
      "Alternative hypothesis: Class/ASD and used_app_before are Dependent\n",
      "\n",
      "Test results\n",
      "=======================================================\n",
      "Observed frequency values \n",
      "\n",
      "used_app_before   no  yes\n",
      "Class/ASD                \n",
      "0                587   28\n",
      "1                178    7\n",
      "*******************************************************\n",
      "\n",
      "Expected frequency counts\n",
      "\n",
      "         no       yes\n",
      "--  -------  --------\n",
      " 0  588.094  26.9062\n",
      " 1  176.906   8.09375\n",
      "\n",
      "*******************************************************\n",
      "\n",
      "Chi-squared test for independence\n",
      "\n",
      "Test              Df    Chi-square    P-value\n",
      "--------------  ----  ------------  ---------\n",
      "Pearson            1     0.0592517   0.807683\n",
      "Log-likelihood     1     0.0602603   0.806085\n",
      "\n"
     ]
    }
   ],
   "source": [
    "chisq_test(train_data, 'Class/ASD', 'used_app_before')"
   ]
  },
  {
   "cell_type": "markdown",
   "id": "4754dd00",
   "metadata": {},
   "source": [
    "+ With chi square test you need a value of more than 0.05 in order to conclude the variables are independent of one another.\n",
    "\n",
    "+ From the test results,the p_value is 0.807683.\n",
    "\n",
    "+ This implies that we must accept the null hypothesis and conclude the variables (Class/ASD and used_app_before) are independent.\n",
    "\n",
    "+ This suggests that used_app_before may be dropped from the input features if need be"
   ]
  },
  {
   "cell_type": "markdown",
   "id": "84b8a4d8",
   "metadata": {},
   "source": [
    "### Correlation between ASD Diagnosis and relation of patient who completed the test"
   ]
  },
  {
   "cell_type": "code",
   "execution_count": null,
   "id": "c62e9109",
   "metadata": {},
   "outputs": [
    {
     "name": "stdout",
     "output_type": "stream",
     "text": [
      "Null hypothesis: Class/ASD and relation are Independent\n",
      "Alternative hypothesis: Class/ASD and relation are Dependent\n",
      "\n",
      "Test results\n",
      "=======================================================\n",
      "Observed frequency values \n",
      "\n",
      "relation    ?  Health care professional  Others  Parent  Relative  Self\n",
      "Class/ASD                                                              \n",
      "0          75                         7       6      32        37   458\n",
      "1           2                         0       1      17         6   159\n",
      "*******************************************************\n",
      "\n",
      "Expected frequency counts\n",
      "\n",
      "          ?    Health care professional    Others    Parent    Relative     Self\n",
      "--  -------  --------------------------  --------  --------  ----------  -------\n",
      " 0  59.1938                     5.38125   5.38125   37.6688    33.0562   474.319\n",
      " 1  17.8062                     1.61875   1.61875   11.3313     9.94375  142.681\n",
      "\n",
      "*******************************************************\n",
      "\n",
      "Chi-squared test for independence\n",
      "\n",
      "Test              Df    Chi-square      P-value\n",
      "--------------  ----  ------------  -----------\n",
      "Pearson            5       28.8164  2.51919e-05\n",
      "Log-likelihood     5       38.779   2.63093e-07\n",
      "\n"
     ]
    }
   ],
   "source": [
    "chisq_test(train_data, 'Class/ASD', 'relation')"
   ]
  },
  {
   "cell_type": "markdown",
   "id": "53b8944a",
   "metadata": {},
   "source": [
    "+ From the test results,the p_value is 2.51919e-05.\n",
    "\n",
    "+ This implies that we must reject the null hypothesis and conclude the variables (Class/ASD and relation) are correlated."
   ]
  },
  {
   "cell_type": "code",
   "execution_count": null,
   "id": "74eb9c74",
   "metadata": {},
   "outputs": [],
   "source": []
  },
  {
   "cell_type": "markdown",
   "id": "97d3fa2c",
   "metadata": {},
   "source": [
    "### Exploring Numerical Variables"
   ]
  },
  {
   "cell_type": "code",
   "execution_count": null,
   "id": "16f50cf1",
   "metadata": {},
   "outputs": [
    {
     "name": "stdout",
     "output_type": "stream",
     "text": [
      "ID\n",
      "A1_Score\n",
      "A2_Score\n",
      "A3_Score\n",
      "A4_Score\n",
      "A5_Score\n",
      "A6_Score\n",
      "A7_Score\n",
      "A8_Score\n",
      "A9_Score\n",
      "A10_Score\n",
      "age\n",
      "result\n",
      "Class/ASD\n"
     ]
    }
   ],
   "source": [
    "for col in numerical_var.columns:\n",
    "    print(col)"
   ]
  },
  {
   "cell_type": "markdown",
   "id": "54e46b48",
   "metadata": {},
   "source": [
    "### Function to explore numerical values"
   ]
  },
  {
   "cell_type": "code",
   "execution_count": null,
   "id": "2b5737dc",
   "metadata": {},
   "outputs": [
    {
     "data": {
      "text/plain": [
       "count    800.00000\n",
       "mean      28.11500\n",
       "std       12.88611\n",
       "min        9.00000\n",
       "25%       19.00000\n",
       "50%       25.00000\n",
       "75%       33.00000\n",
       "max       72.00000\n",
       "Name: age, dtype: float64"
      ]
     },
     "execution_count": 694,
     "metadata": {},
     "output_type": "execute_result"
    }
   ],
   "source": [
    "train_data['age'].describe()"
   ]
  },
  {
   "cell_type": "code",
   "execution_count": null,
   "id": "017cf671",
   "metadata": {},
   "outputs": [],
   "source": [
    "def explore_num(dataframe, column):\n",
    "    '''\n",
    "    This function gives a numerical and graphical summary of numerical columns of a DataFrame\n",
    "    '''\n",
    "    print('Summary Statistics \\n')\n",
    "    print(dataframe[column].describe())\n",
    "    # print(dataframe[column].apply([len, min, max, np.mean, np.median, np.std]))\n",
    "    print('====================================================')\n",
    "    plt.figure(figsize = (8,4))\n",
    "    # plotting boxplot\n",
    "    plt.subplot(1,2,1)\n",
    "    sns.boxplot(y= dataframe[column], palette = 'hls')\n",
    "    plt.title('Boxplot')\n",
    "          \n",
    "    # plotting histogram\n",
    "    plt.subplot(1,2,2)\n",
    "    #sns.displot(dataframe[column], kde=True)\n",
    "    plt.title('Histogram')\n",
    "    plt.hist(dataframe[column], color='#3DCAB5')\n",
    "    #plt.tight_layout()\n",
    "    plt.show()\n",
    "          "
   ]
  },
  {
   "cell_type": "code",
   "execution_count": null,
   "id": "f736a742",
   "metadata": {},
   "outputs": [
    {
     "name": "stdout",
     "output_type": "stream",
     "text": [
      "Summary Statistics \n",
      "\n",
      "count    800.00000\n",
      "mean      28.11500\n",
      "std       12.88611\n",
      "min        9.00000\n",
      "25%       19.00000\n",
      "50%       25.00000\n",
      "75%       33.00000\n",
      "max       72.00000\n",
      "Name: age, dtype: float64\n",
      "====================================================\n"
     ]
    },
    {
     "data": {
      "image/png": "[encoded data removed]",
      "text/plain": [
       "<Figure size 576x288 with 2 Axes>"
      ]
     },
     "metadata": {
      "needs_background": "light"
     },
     "output_type": "display_data"
    }
   ],
   "source": [
    "explore_num(train_data, 'age')"
   ]
  },
  {
   "cell_type": "markdown",
   "id": "18c58c0d",
   "metadata": {},
   "source": [
    "+ The distribution of the age of the patients is skewed to the right. \n",
    "+ A bulk of the patients are between the ages of about 15 and 30\n",
    "+ The mean age is about 28"
   ]
  },
  {
   "cell_type": "code",
   "execution_count": null,
   "id": "ef3743b5",
   "metadata": {},
   "outputs": [
    {
     "name": "stdout",
     "output_type": "stream",
     "text": [
      "Summary Statistics \n",
      "\n",
      "count    800.000000\n",
      "mean       7.058530\n",
      "std        3.788969\n",
      "min       -2.594654\n",
      "25%        4.527556\n",
      "50%        6.893472\n",
      "75%        9.892981\n",
      "max       13.390868\n",
      "Name: result, dtype: float64\n",
      "====================================================\n"
     ]
    },
    {
     "data": {
      "image/png": "[encoded data removed]",
      "text/plain": [
       "<Figure size 576x288 with 2 Axes>"
      ]
     },
     "metadata": {
      "needs_background": "light"
     },
     "output_type": "display_data"
    }
   ],
   "source": [
    "explore_num(train_data, 'result')"
   ]
  },
  {
   "cell_type": "markdown",
   "id": "649984dc",
   "metadata": {},
   "source": [
    "+ There are no outliers for the score of the AQ1-10 screening test\n",
    "+ About 25 observations were below 0, with -2 being the minimum\n",
    "+ The majority of results were between 4 and 8 as well as 13"
   ]
  },
  {
   "cell_type": "markdown",
   "id": "3b8b07cb",
   "metadata": {},
   "source": [
    "### Correlation among numerical variables to investigate multi-colinearity"
   ]
  },
  {
   "cell_type": "code",
   "execution_count": null,
   "id": "4d75ca75",
   "metadata": {},
   "outputs": [],
   "source": [
    "num_var = train_data[['age', 'result', 'Class/ASD']]"
   ]
  },
  {
   "cell_type": "code",
   "execution_count": null,
   "id": "9d771d67",
   "metadata": {},
   "outputs": [],
   "source": [
    "cor = num_var.corr()"
   ]
  },
  {
   "cell_type": "code",
   "execution_count": null,
   "id": "3bbd355f",
   "metadata": {},
   "outputs": [
    {
     "data": {
      "image/png": "[encoded data removed]",
      "text/plain": [
       "<Figure size 576x504 with 2 Axes>"
      ]
     },
     "metadata": {
      "needs_background": "light"
     },
     "output_type": "display_data"
    }
   ],
   "source": [
    "plt.figure(figsize=(8,7))\n",
    "sns.heatmap(cor,annot = cor,cmap = 'Blues')\n",
    "plt.show()"
   ]
  },
  {
   "cell_type": "markdown",
   "id": "d5ba1474",
   "metadata": {},
   "source": [
    "+ The age and results variables have a very low correlation\n",
    "+ As well as the age and target variable, Class/ASD\n",
    "+ There is a moderate correlation between the results of the scores and the target variable, Class/ASD"
   ]
  },
  {
   "cell_type": "markdown",
   "id": "00e3b48f",
   "metadata": {},
   "source": [
    "### Inspecting Cleaned Data"
   ]
  },
  {
   "cell_type": "code",
   "execution_count": null,
   "id": "e38a8d5b",
   "metadata": {},
   "outputs": [
    {
     "name": "stdout",
     "output_type": "stream",
     "text": [
      "<class 'pandas.core.frame.DataFrame'>\n",
      "RangeIndex: 800 entries, 0 to 799\n",
      "Data columns (total 21 columns):\n",
      " #   Column           Non-Null Count  Dtype   \n",
      "---  ------           --------------  -----   \n",
      " 0   ID               800 non-null    int64   \n",
      " 1   A1_Score         800 non-null    int64   \n",
      " 2   A2_Score         800 non-null    int64   \n",
      " 3   A3_Score         800 non-null    int64   \n",
      " 4   A4_Score         800 non-null    int64   \n",
      " 5   A5_Score         800 non-null    int64   \n",
      " 6   A6_Score         800 non-null    int64   \n",
      " 7   A7_Score         800 non-null    int64   \n",
      " 8   A8_Score         800 non-null    int64   \n",
      " 9   A9_Score         800 non-null    int64   \n",
      " 10  A10_Score        800 non-null    int64   \n",
      " 11  age              800 non-null    int32   \n",
      " 12  gender           800 non-null    category\n",
      " 13  ethnicity        800 non-null    category\n",
      " 14  jaundice         800 non-null    category\n",
      " 15  autism           800 non-null    category\n",
      " 16  country_of_res   800 non-null    category\n",
      " 17  used_app_before  800 non-null    category\n",
      " 18  result           800 non-null    float64 \n",
      " 19  relation         800 non-null    category\n",
      " 20  Class/ASD        800 non-null    int64   \n",
      "dtypes: category(7), float64(1), int32(1), int64(12)\n",
      "memory usage: 93.6 KB\n"
     ]
    }
   ],
   "source": [
    "train_data.info()"
   ]
  },
  {
   "cell_type": "code",
   "execution_count": null,
   "id": "b763c6d8",
   "metadata": {},
   "outputs": [
    {
     "data": {
      "text/plain": [
       "(800, 21)"
      ]
     },
     "execution_count": 702,
     "metadata": {},
     "output_type": "execute_result"
    }
   ],
   "source": [
    "train_data.shape"
   ]
  },
  {
   "cell_type": "markdown",
   "id": "84b67455",
   "metadata": {},
   "source": [
    "## 3.Data-Preprocessing-for-Modeling"
   ]
  },
  {
   "cell_type": "markdown",
   "id": "01fa4558",
   "metadata": {},
   "source": [
    "#### Dropping less important variables for building the model "
   ]
  },
  {
   "cell_type": "code",
   "execution_count": null,
   "id": "9627cd40",
   "metadata": {
    "scrolled": true
   },
   "outputs": [],
   "source": [
    "train_data.drop(['ID', 'country_of_res', 'used_app_before', 'relation','ethnicity', 'result'], axis=1, inplace=True)"
   ]
  },
  {
   "cell_type": "code",
   "execution_count": null,
   "id": "eb3485ff",
   "metadata": {
    "scrolled": true
   },
   "outputs": [
    {
     "data": {
      "text/plain": [
       "(800, 15)"
      ]
     },
     "execution_count": 704,
     "metadata": {},
     "output_type": "execute_result"
    }
   ],
   "source": [
    "train_data.shape"
   ]
  },
  {
   "cell_type": "code",
   "execution_count": null,
   "id": "a5082de9",
   "metadata": {},
   "outputs": [],
   "source": [
    "cat = train_data.select_dtypes('category')"
   ]
  },
  {
   "cell_type": "code",
   "execution_count": null,
   "id": "b3c5f07a",
   "metadata": {},
   "outputs": [
    {
     "data": {
      "text/html": [
       "<div>\n",
       "<style scoped>\n",
       "    .dataframe tbody tr th:only-of-type {\n",
       "        vertical-align: middle;\n",
       "    }\n",
       "\n",
       "    .dataframe tbody tr th {\n",
       "        vertical-align: top;\n",
       "    }\n",
       "\n",
       "    .dataframe thead th {\n",
       "        text-align: right;\n",
       "    }\n",
       "</style>\n",
       "<table border=\"1\" class=\"dataframe\">\n",
       "  <thead>\n",
       "    <tr style=\"text-align: right;\">\n",
       "      <th></th>\n",
       "      <th>gender</th>\n",
       "      <th>jaundice</th>\n",
       "      <th>autism</th>\n",
       "    </tr>\n",
       "  </thead>\n",
       "  <tbody>\n",
       "    <tr>\n",
       "      <th>0</th>\n",
       "      <td>f</td>\n",
       "      <td>no</td>\n",
       "      <td>no</td>\n",
       "    </tr>\n",
       "    <tr>\n",
       "      <th>1</th>\n",
       "      <td>f</td>\n",
       "      <td>no</td>\n",
       "      <td>no</td>\n",
       "    </tr>\n",
       "    <tr>\n",
       "      <th>2</th>\n",
       "      <td>f</td>\n",
       "      <td>no</td>\n",
       "      <td>no</td>\n",
       "    </tr>\n",
       "    <tr>\n",
       "      <th>3</th>\n",
       "      <td>f</td>\n",
       "      <td>no</td>\n",
       "      <td>no</td>\n",
       "    </tr>\n",
       "    <tr>\n",
       "      <th>4</th>\n",
       "      <td>m</td>\n",
       "      <td>no</td>\n",
       "      <td>yes</td>\n",
       "    </tr>\n",
       "  </tbody>\n",
       "</table>\n",
       "</div>"
      ],
      "text/plain": [
       "  gender jaundice autism\n",
       "0      f       no     no\n",
       "1      f       no     no\n",
       "2      f       no     no\n",
       "3      f       no     no\n",
       "4      m       no    yes"
      ]
     },
     "execution_count": 706,
     "metadata": {},
     "output_type": "execute_result"
    }
   ],
   "source": [
    "cat.head()"
   ]
  },
  {
   "cell_type": "markdown",
   "id": "911c2905",
   "metadata": {},
   "source": [
    "**Converting categorical variables to dummy indicators**"
   ]
  },
  {
   "cell_type": "code",
   "execution_count": null,
   "id": "3435225e",
   "metadata": {},
   "outputs": [],
   "source": [
    "train_data = pd.get_dummies(train_data, columns = ['gender',\n",
    "                                                   'jaundice',\n",
    "                                                  'autism'],\n",
    "                            drop_first = True)"
   ]
  },
  {
   "cell_type": "markdown",
   "id": "20a283dc",
   "metadata": {},
   "source": [
    "### Re-inspecting the data"
   ]
  },
  {
   "cell_type": "code",
   "execution_count": null,
   "id": "df7c0aa8",
   "metadata": {
    "scrolled": true
   },
   "outputs": [
    {
     "data": {
      "text/plain": [
       "A1_Score        int64\n",
       "A2_Score        int64\n",
       "A3_Score        int64\n",
       "A4_Score        int64\n",
       "A5_Score        int64\n",
       "A6_Score        int64\n",
       "A7_Score        int64\n",
       "A8_Score        int64\n",
       "A9_Score        int64\n",
       "A10_Score       int64\n",
       "age             int32\n",
       "Class/ASD       int64\n",
       "gender_m        uint8\n",
       "jaundice_yes    uint8\n",
       "autism_yes      uint8\n",
       "dtype: object"
      ]
     },
     "execution_count": 708,
     "metadata": {},
     "output_type": "execute_result"
    }
   ],
   "source": [
    "train_data.dtypes"
   ]
  },
  {
   "cell_type": "code",
   "execution_count": null,
   "id": "08f456b4",
   "metadata": {},
   "outputs": [
    {
     "data": {
      "text/plain": [
       "(800, 15)"
      ]
     },
     "execution_count": 709,
     "metadata": {},
     "output_type": "execute_result"
    }
   ],
   "source": [
    "train_data.shape"
   ]
  },
  {
   "cell_type": "code",
   "execution_count": null,
   "id": "30289fb9",
   "metadata": {},
   "outputs": [
    {
     "data": {
      "text/html": [
       "<div>\n",
       "<style scoped>\n",
       "    .dataframe tbody tr th:only-of-type {\n",
       "        vertical-align: middle;\n",
       "    }\n",
       "\n",
       "    .dataframe tbody tr th {\n",
       "        vertical-align: top;\n",
       "    }\n",
       "\n",
       "    .dataframe thead th {\n",
       "        text-align: right;\n",
       "    }\n",
       "</style>\n",
       "<table border=\"1\" class=\"dataframe\">\n",
       "  <thead>\n",
       "    <tr style=\"text-align: right;\">\n",
       "      <th></th>\n",
       "      <th>A1_Score</th>\n",
       "      <th>A2_Score</th>\n",
       "      <th>A3_Score</th>\n",
       "      <th>A4_Score</th>\n",
       "      <th>A5_Score</th>\n",
       "      <th>A6_Score</th>\n",
       "      <th>A7_Score</th>\n",
       "      <th>A8_Score</th>\n",
       "      <th>A9_Score</th>\n",
       "      <th>A10_Score</th>\n",
       "      <th>age</th>\n",
       "      <th>Class/ASD</th>\n",
       "      <th>gender_m</th>\n",
       "      <th>jaundice_yes</th>\n",
       "      <th>autism_yes</th>\n",
       "    </tr>\n",
       "  </thead>\n",
       "  <tbody>\n",
       "    <tr>\n",
       "      <th>0</th>\n",
       "      <td>1</td>\n",
       "      <td>0</td>\n",
       "      <td>1</td>\n",
       "      <td>1</td>\n",
       "      <td>1</td>\n",
       "      <td>1</td>\n",
       "      <td>0</td>\n",
       "      <td>1</td>\n",
       "      <td>1</td>\n",
       "      <td>1</td>\n",
       "      <td>18</td>\n",
       "      <td>0</td>\n",
       "      <td>0</td>\n",
       "      <td>0</td>\n",
       "      <td>0</td>\n",
       "    </tr>\n",
       "    <tr>\n",
       "      <th>1</th>\n",
       "      <td>0</td>\n",
       "      <td>0</td>\n",
       "      <td>0</td>\n",
       "      <td>0</td>\n",
       "      <td>0</td>\n",
       "      <td>0</td>\n",
       "      <td>0</td>\n",
       "      <td>0</td>\n",
       "      <td>0</td>\n",
       "      <td>1</td>\n",
       "      <td>13</td>\n",
       "      <td>0</td>\n",
       "      <td>0</td>\n",
       "      <td>0</td>\n",
       "      <td>0</td>\n",
       "    </tr>\n",
       "    <tr>\n",
       "      <th>2</th>\n",
       "      <td>1</td>\n",
       "      <td>1</td>\n",
       "      <td>1</td>\n",
       "      <td>1</td>\n",
       "      <td>1</td>\n",
       "      <td>1</td>\n",
       "      <td>0</td>\n",
       "      <td>0</td>\n",
       "      <td>1</td>\n",
       "      <td>1</td>\n",
       "      <td>14</td>\n",
       "      <td>1</td>\n",
       "      <td>0</td>\n",
       "      <td>0</td>\n",
       "      <td>0</td>\n",
       "    </tr>\n",
       "    <tr>\n",
       "      <th>3</th>\n",
       "      <td>0</td>\n",
       "      <td>0</td>\n",
       "      <td>0</td>\n",
       "      <td>1</td>\n",
       "      <td>0</td>\n",
       "      <td>0</td>\n",
       "      <td>0</td>\n",
       "      <td>0</td>\n",
       "      <td>0</td>\n",
       "      <td>0</td>\n",
       "      <td>61</td>\n",
       "      <td>0</td>\n",
       "      <td>0</td>\n",
       "      <td>0</td>\n",
       "      <td>0</td>\n",
       "    </tr>\n",
       "    <tr>\n",
       "      <th>4</th>\n",
       "      <td>0</td>\n",
       "      <td>0</td>\n",
       "      <td>0</td>\n",
       "      <td>0</td>\n",
       "      <td>1</td>\n",
       "      <td>0</td>\n",
       "      <td>0</td>\n",
       "      <td>0</td>\n",
       "      <td>1</td>\n",
       "      <td>1</td>\n",
       "      <td>14</td>\n",
       "      <td>0</td>\n",
       "      <td>1</td>\n",
       "      <td>0</td>\n",
       "      <td>1</td>\n",
       "    </tr>\n",
       "  </tbody>\n",
       "</table>\n",
       "</div>"
      ],
      "text/plain": [
       "   A1_Score  A2_Score  A3_Score  A4_Score  A5_Score  A6_Score  A7_Score  \\\n",
       "0         1         0         1         1         1         1         0   \n",
       "1         0         0         0         0         0         0         0   \n",
       "2         1         1         1         1         1         1         0   \n",
       "3         0         0         0         1         0         0         0   \n",
       "4         0         0         0         0         1         0         0   \n",
       "\n",
       "   A8_Score  A9_Score  A10_Score  age  Class/ASD  gender_m  jaundice_yes  \\\n",
       "0         1         1          1   18          0         0             0   \n",
       "1         0         0          1   13          0         0             0   \n",
       "2         0         1          1   14          1         0             0   \n",
       "3         0         0          0   61          0         0             0   \n",
       "4         0         1          1   14          0         1             0   \n",
       "\n",
       "   autism_yes  \n",
       "0           0  \n",
       "1           0  \n",
       "2           0  \n",
       "3           0  \n",
       "4           1  "
      ]
     },
     "execution_count": 710,
     "metadata": {},
     "output_type": "execute_result"
    }
   ],
   "source": [
    "train_data.head()"
   ]
  },
  {
   "cell_type": "code",
   "execution_count": null,
   "id": "0443b40a",
   "metadata": {
    "scrolled": true
   },
   "outputs": [
    {
     "data": {
      "text/html": [
       "<div>\n",
       "<style scoped>\n",
       "    .dataframe tbody tr th:only-of-type {\n",
       "        vertical-align: middle;\n",
       "    }\n",
       "\n",
       "    .dataframe tbody tr th {\n",
       "        vertical-align: top;\n",
       "    }\n",
       "\n",
       "    .dataframe thead th {\n",
       "        text-align: right;\n",
       "    }\n",
       "</style>\n",
       "<table border=\"1\" class=\"dataframe\">\n",
       "  <thead>\n",
       "    <tr style=\"text-align: right;\">\n",
       "      <th></th>\n",
       "      <th>A1_Score</th>\n",
       "      <th>A2_Score</th>\n",
       "      <th>A3_Score</th>\n",
       "      <th>A4_Score</th>\n",
       "      <th>A5_Score</th>\n",
       "      <th>A6_Score</th>\n",
       "      <th>A7_Score</th>\n",
       "      <th>A8_Score</th>\n",
       "      <th>A9_Score</th>\n",
       "      <th>A10_Score</th>\n",
       "      <th>age</th>\n",
       "      <th>Class/ASD</th>\n",
       "      <th>gender_m</th>\n",
       "      <th>jaundice_yes</th>\n",
       "      <th>autism_yes</th>\n",
       "    </tr>\n",
       "  </thead>\n",
       "  <tbody>\n",
       "    <tr>\n",
       "      <th>count</th>\n",
       "      <td>800.000000</td>\n",
       "      <td>800.00000</td>\n",
       "      <td>800.000000</td>\n",
       "      <td>800.00000</td>\n",
       "      <td>800.000000</td>\n",
       "      <td>800.00000</td>\n",
       "      <td>800.000000</td>\n",
       "      <td>800.000000</td>\n",
       "      <td>800.000000</td>\n",
       "      <td>800.000000</td>\n",
       "      <td>800.00000</td>\n",
       "      <td>800.000000</td>\n",
       "      <td>800.000000</td>\n",
       "      <td>800.000000</td>\n",
       "      <td>800.000000</td>\n",
       "    </tr>\n",
       "    <tr>\n",
       "      <th>mean</th>\n",
       "      <td>0.582500</td>\n",
       "      <td>0.28625</td>\n",
       "      <td>0.321250</td>\n",
       "      <td>0.41500</td>\n",
       "      <td>0.457500</td>\n",
       "      <td>0.20875</td>\n",
       "      <td>0.273750</td>\n",
       "      <td>0.717500</td>\n",
       "      <td>0.316250</td>\n",
       "      <td>0.460000</td>\n",
       "      <td>28.11500</td>\n",
       "      <td>0.231250</td>\n",
       "      <td>0.481250</td>\n",
       "      <td>0.245000</td>\n",
       "      <td>0.146250</td>\n",
       "    </tr>\n",
       "    <tr>\n",
       "      <th>std</th>\n",
       "      <td>0.493455</td>\n",
       "      <td>0.45229</td>\n",
       "      <td>0.467249</td>\n",
       "      <td>0.49303</td>\n",
       "      <td>0.498502</td>\n",
       "      <td>0.40667</td>\n",
       "      <td>0.446161</td>\n",
       "      <td>0.450497</td>\n",
       "      <td>0.465303</td>\n",
       "      <td>0.498709</td>\n",
       "      <td>12.88611</td>\n",
       "      <td>0.421896</td>\n",
       "      <td>0.499961</td>\n",
       "      <td>0.430356</td>\n",
       "      <td>0.353578</td>\n",
       "    </tr>\n",
       "    <tr>\n",
       "      <th>min</th>\n",
       "      <td>0.000000</td>\n",
       "      <td>0.00000</td>\n",
       "      <td>0.000000</td>\n",
       "      <td>0.00000</td>\n",
       "      <td>0.000000</td>\n",
       "      <td>0.00000</td>\n",
       "      <td>0.000000</td>\n",
       "      <td>0.000000</td>\n",
       "      <td>0.000000</td>\n",
       "      <td>0.000000</td>\n",
       "      <td>9.00000</td>\n",
       "      <td>0.000000</td>\n",
       "      <td>0.000000</td>\n",
       "      <td>0.000000</td>\n",
       "      <td>0.000000</td>\n",
       "    </tr>\n",
       "    <tr>\n",
       "      <th>25%</th>\n",
       "      <td>0.000000</td>\n",
       "      <td>0.00000</td>\n",
       "      <td>0.000000</td>\n",
       "      <td>0.00000</td>\n",
       "      <td>0.000000</td>\n",
       "      <td>0.00000</td>\n",
       "      <td>0.000000</td>\n",
       "      <td>0.000000</td>\n",
       "      <td>0.000000</td>\n",
       "      <td>0.000000</td>\n",
       "      <td>19.00000</td>\n",
       "      <td>0.000000</td>\n",
       "      <td>0.000000</td>\n",
       "      <td>0.000000</td>\n",
       "      <td>0.000000</td>\n",
       "    </tr>\n",
       "    <tr>\n",
       "      <th>50%</th>\n",
       "      <td>1.000000</td>\n",
       "      <td>0.00000</td>\n",
       "      <td>0.000000</td>\n",
       "      <td>0.00000</td>\n",
       "      <td>0.000000</td>\n",
       "      <td>0.00000</td>\n",
       "      <td>0.000000</td>\n",
       "      <td>1.000000</td>\n",
       "      <td>0.000000</td>\n",
       "      <td>0.000000</td>\n",
       "      <td>25.00000</td>\n",
       "      <td>0.000000</td>\n",
       "      <td>0.000000</td>\n",
       "      <td>0.000000</td>\n",
       "      <td>0.000000</td>\n",
       "    </tr>\n",
       "    <tr>\n",
       "      <th>75%</th>\n",
       "      <td>1.000000</td>\n",
       "      <td>1.00000</td>\n",
       "      <td>1.000000</td>\n",
       "      <td>1.00000</td>\n",
       "      <td>1.000000</td>\n",
       "      <td>0.00000</td>\n",
       "      <td>1.000000</td>\n",
       "      <td>1.000000</td>\n",
       "      <td>1.000000</td>\n",
       "      <td>1.000000</td>\n",
       "      <td>33.00000</td>\n",
       "      <td>0.000000</td>\n",
       "      <td>1.000000</td>\n",
       "      <td>0.000000</td>\n",
       "      <td>0.000000</td>\n",
       "    </tr>\n",
       "    <tr>\n",
       "      <th>max</th>\n",
       "      <td>1.000000</td>\n",
       "      <td>1.00000</td>\n",
       "      <td>1.000000</td>\n",
       "      <td>1.00000</td>\n",
       "      <td>1.000000</td>\n",
       "      <td>1.00000</td>\n",
       "      <td>1.000000</td>\n",
       "      <td>1.000000</td>\n",
       "      <td>1.000000</td>\n",
       "      <td>1.000000</td>\n",
       "      <td>72.00000</td>\n",
       "      <td>1.000000</td>\n",
       "      <td>1.000000</td>\n",
       "      <td>1.000000</td>\n",
       "      <td>1.000000</td>\n",
       "    </tr>\n",
       "  </tbody>\n",
       "</table>\n",
       "</div>"
      ],
      "text/plain": [
       "         A1_Score   A2_Score    A3_Score   A4_Score    A5_Score   A6_Score  \\\n",
       "count  800.000000  800.00000  800.000000  800.00000  800.000000  800.00000   \n",
       "mean     0.582500    0.28625    0.321250    0.41500    0.457500    0.20875   \n",
       "std      0.493455    0.45229    0.467249    0.49303    0.498502    0.40667   \n",
       "min      0.000000    0.00000    0.000000    0.00000    0.000000    0.00000   \n",
       "25%      0.000000    0.00000    0.000000    0.00000    0.000000    0.00000   \n",
       "50%      1.000000    0.00000    0.000000    0.00000    0.000000    0.00000   \n",
       "75%      1.000000    1.00000    1.000000    1.00000    1.000000    0.00000   \n",
       "max      1.000000    1.00000    1.000000    1.00000    1.000000    1.00000   \n",
       "\n",
       "         A7_Score    A8_Score    A9_Score   A10_Score        age   Class/ASD  \\\n",
       "count  800.000000  800.000000  800.000000  800.000000  800.00000  800.000000   \n",
       "mean     0.273750    0.717500    0.316250    0.460000   28.11500    0.231250   \n",
       "std      0.446161    0.450497    0.465303    0.498709   12.88611    0.421896   \n",
       "min      0.000000    0.000000    0.000000    0.000000    9.00000    0.000000   \n",
       "25%      0.000000    0.000000    0.000000    0.000000   19.00000    0.000000   \n",
       "50%      0.000000    1.000000    0.000000    0.000000   25.00000    0.000000   \n",
       "75%      1.000000    1.000000    1.000000    1.000000   33.00000    0.000000   \n",
       "max      1.000000    1.000000    1.000000    1.000000   72.00000    1.000000   \n",
       "\n",
       "         gender_m  jaundice_yes  autism_yes  \n",
       "count  800.000000    800.000000  800.000000  \n",
       "mean     0.481250      0.245000    0.146250  \n",
       "std      0.499961      0.430356    0.353578  \n",
       "min      0.000000      0.000000    0.000000  \n",
       "25%      0.000000      0.000000    0.000000  \n",
       "50%      0.000000      0.000000    0.000000  \n",
       "75%      1.000000      0.000000    0.000000  \n",
       "max      1.000000      1.000000    1.000000  "
      ]
     },
     "execution_count": 711,
     "metadata": {},
     "output_type": "execute_result"
    }
   ],
   "source": [
    "train_data.describe()"
   ]
  },
  {
   "cell_type": "code",
   "execution_count": null,
   "id": "91d6703c",
   "metadata": {},
   "outputs": [
    {
     "data": {
      "text/plain": [
       "count    800.00000\n",
       "mean      28.11500\n",
       "std       12.88611\n",
       "min        9.00000\n",
       "25%       19.00000\n",
       "50%       25.00000\n",
       "75%       33.00000\n",
       "max       72.00000\n",
       "Name: age, dtype: float64"
      ]
     },
     "execution_count": 712,
     "metadata": {},
     "output_type": "execute_result"
    }
   ],
   "source": [
    "train_data['age'].describe()"
   ]
  },
  {
   "cell_type": "markdown",
   "id": "50f9a601",
   "metadata": {},
   "source": [
    "+ A general inspection of the descriptive statistics above indicates that variables have different scales which may cause models to put more weight on those with high values at the expense of those with low values.\n",
    "\n",
    "+ To resolve this, the variables may or may not be scaled depending on the kind of algorithm that is used.\n",
    "\n"
   ]
  },
  {
   "cell_type": "markdown",
   "id": "ae0ee739",
   "metadata": {},
   "source": [
    "### Separating the data into target variable and predictors"
   ]
  },
  {
   "cell_type": "code",
   "execution_count": null,
   "id": "7e5e6d7f",
   "metadata": {},
   "outputs": [],
   "source": [
    "# predictors\n",
    "X = train_data.drop('Class/ASD', axis=1)\n",
    "\n",
    "# target variable\n",
    "y = train_data['Class/ASD']"
   ]
  },
  {
   "cell_type": "code",
   "execution_count": null,
   "id": "ee10eb88",
   "metadata": {},
   "outputs": [
    {
     "data": {
      "text/html": [
       "<div>\n",
       "<style scoped>\n",
       "    .dataframe tbody tr th:only-of-type {\n",
       "        vertical-align: middle;\n",
       "    }\n",
       "\n",
       "    .dataframe tbody tr th {\n",
       "        vertical-align: top;\n",
       "    }\n",
       "\n",
       "    .dataframe thead th {\n",
       "        text-align: right;\n",
       "    }\n",
       "</style>\n",
       "<table border=\"1\" class=\"dataframe\">\n",
       "  <thead>\n",
       "    <tr style=\"text-align: right;\">\n",
       "      <th></th>\n",
       "      <th>A1_Score</th>\n",
       "      <th>A2_Score</th>\n",
       "      <th>A3_Score</th>\n",
       "      <th>A4_Score</th>\n",
       "      <th>A5_Score</th>\n",
       "      <th>A6_Score</th>\n",
       "      <th>A7_Score</th>\n",
       "      <th>A8_Score</th>\n",
       "      <th>A9_Score</th>\n",
       "      <th>A10_Score</th>\n",
       "      <th>age</th>\n",
       "      <th>gender_m</th>\n",
       "      <th>jaundice_yes</th>\n",
       "      <th>autism_yes</th>\n",
       "    </tr>\n",
       "  </thead>\n",
       "  <tbody>\n",
       "    <tr>\n",
       "      <th>0</th>\n",
       "      <td>1</td>\n",
       "      <td>0</td>\n",
       "      <td>1</td>\n",
       "      <td>1</td>\n",
       "      <td>1</td>\n",
       "      <td>1</td>\n",
       "      <td>0</td>\n",
       "      <td>1</td>\n",
       "      <td>1</td>\n",
       "      <td>1</td>\n",
       "      <td>18</td>\n",
       "      <td>0</td>\n",
       "      <td>0</td>\n",
       "      <td>0</td>\n",
       "    </tr>\n",
       "    <tr>\n",
       "      <th>1</th>\n",
       "      <td>0</td>\n",
       "      <td>0</td>\n",
       "      <td>0</td>\n",
       "      <td>0</td>\n",
       "      <td>0</td>\n",
       "      <td>0</td>\n",
       "      <td>0</td>\n",
       "      <td>0</td>\n",
       "      <td>0</td>\n",
       "      <td>1</td>\n",
       "      <td>13</td>\n",
       "      <td>0</td>\n",
       "      <td>0</td>\n",
       "      <td>0</td>\n",
       "    </tr>\n",
       "    <tr>\n",
       "      <th>2</th>\n",
       "      <td>1</td>\n",
       "      <td>1</td>\n",
       "      <td>1</td>\n",
       "      <td>1</td>\n",
       "      <td>1</td>\n",
       "      <td>1</td>\n",
       "      <td>0</td>\n",
       "      <td>0</td>\n",
       "      <td>1</td>\n",
       "      <td>1</td>\n",
       "      <td>14</td>\n",
       "      <td>0</td>\n",
       "      <td>0</td>\n",
       "      <td>0</td>\n",
       "    </tr>\n",
       "    <tr>\n",
       "      <th>3</th>\n",
       "      <td>0</td>\n",
       "      <td>0</td>\n",
       "      <td>0</td>\n",
       "      <td>1</td>\n",
       "      <td>0</td>\n",
       "      <td>0</td>\n",
       "      <td>0</td>\n",
       "      <td>0</td>\n",
       "      <td>0</td>\n",
       "      <td>0</td>\n",
       "      <td>61</td>\n",
       "      <td>0</td>\n",
       "      <td>0</td>\n",
       "      <td>0</td>\n",
       "    </tr>\n",
       "    <tr>\n",
       "      <th>4</th>\n",
       "      <td>0</td>\n",
       "      <td>0</td>\n",
       "      <td>0</td>\n",
       "      <td>0</td>\n",
       "      <td>1</td>\n",
       "      <td>0</td>\n",
       "      <td>0</td>\n",
       "      <td>0</td>\n",
       "      <td>1</td>\n",
       "      <td>1</td>\n",
       "      <td>14</td>\n",
       "      <td>1</td>\n",
       "      <td>0</td>\n",
       "      <td>1</td>\n",
       "    </tr>\n",
       "  </tbody>\n",
       "</table>\n",
       "</div>"
      ],
      "text/plain": [
       "   A1_Score  A2_Score  A3_Score  A4_Score  A5_Score  A6_Score  A7_Score  \\\n",
       "0         1         0         1         1         1         1         0   \n",
       "1         0         0         0         0         0         0         0   \n",
       "2         1         1         1         1         1         1         0   \n",
       "3         0         0         0         1         0         0         0   \n",
       "4         0         0         0         0         1         0         0   \n",
       "\n",
       "   A8_Score  A9_Score  A10_Score  age  gender_m  jaundice_yes  autism_yes  \n",
       "0         1         1          1   18         0             0           0  \n",
       "1         0         0          1   13         0             0           0  \n",
       "2         0         1          1   14         0             0           0  \n",
       "3         0         0          0   61         0             0           0  \n",
       "4         0         1          1   14         1             0           1  "
      ]
     },
     "execution_count": 714,
     "metadata": {},
     "output_type": "execute_result"
    }
   ],
   "source": [
    "X.head()"
   ]
  },
  {
   "cell_type": "code",
   "execution_count": null,
   "id": "444a01c5",
   "metadata": {},
   "outputs": [
    {
     "data": {
      "text/plain": [
       "0    0\n",
       "1    0\n",
       "2    1\n",
       "3    0\n",
       "4    0\n",
       "Name: Class/ASD, dtype: int64"
      ]
     },
     "execution_count": 715,
     "metadata": {},
     "output_type": "execute_result"
    }
   ],
   "source": [
    "y.head()"
   ]
  },
  {
   "cell_type": "markdown",
   "id": "4cdda305",
   "metadata": {},
   "source": [
    "### Splitting the data into train and test sets"
   ]
  },
  {
   "cell_type": "code",
   "execution_count": null,
   "id": "292565f9",
   "metadata": {},
   "outputs": [],
   "source": [
    "X_train, X_test, y_train, y_test = train_test_split(X, y, test_size=0.2, stratify=y, random_state = 0)"
   ]
  },
  {
   "cell_type": "markdown",
   "id": "0ea86e16",
   "metadata": {},
   "source": [
    "# 4.Building-of-Models"
   ]
  },
  {
   "cell_type": "markdown",
   "id": "e62069c8",
   "metadata": {},
   "source": [
    "## Random Forest"
   ]
  },
  {
   "cell_type": "markdown",
   "id": "52b6d83c",
   "metadata": {},
   "source": [
    "**Random Forest classifier before hyperparameter tuning**"
   ]
  },
  {
   "cell_type": "code",
   "execution_count": null,
   "id": "e94dfde3",
   "metadata": {},
   "outputs": [
    {
     "name": "stdout",
     "output_type": "stream",
     "text": [
      "train score: 1.00\n",
      "test score: 0.85\n"
     ]
    }
   ],
   "source": [
    "rfc = RandomForestClassifier(random_state=0)\n",
    "rfc.fit(X_train, y_train)\n",
    "print('train score: {:.2f}'.format(rfc.score(X_train,y_train)))\n",
    "print('test score: {:.2f}'.format(rfc.score(X_test,y_test)))"
   ]
  },
  {
   "cell_type": "markdown",
   "id": "5c72a35b",
   "metadata": {},
   "source": [
    "**Hyperparameter tuning for Random Forest Classifier**"
   ]
  },
  {
   "cell_type": "code",
   "execution_count": null,
   "id": "097320ae",
   "metadata": {},
   "outputs": [
    {
     "name": "stdout",
     "output_type": "stream",
     "text": [
      "Best cross-validation acuracy: 0.88\n",
      "Best test score: 0.89\n",
      "Best parameters: {'max_features': 4, 'max_leaf_nodes': 6}\n"
     ]
    }
   ],
   "source": [
    "rfc = RandomForestClassifier(random_state = 0)\n",
    "param_grid = {'max_features': [1,2,3,4,5,6,7,8,9,10],'max_leaf_nodes':[1,2, 3,4,5,6,7,8,9,10]}\n",
    "grid_rfc = GridSearchCV(rfc, param_grid = param_grid,cv =5)\n",
    "grid_rfc.fit(X_train,y_train)\n",
    "print('Best cross-validation acuracy: {:.2f}'.format(grid_rfc.best_score_))\n",
    "print('Best test score: {:.2f}'.format(grid_rfc.score(X_test,y_test)))\n",
    "print('Best parameters:',grid_rfc.best_params_)"
   ]
  },
  {
   "cell_type": "markdown",
   "id": "5bb1a388",
   "metadata": {},
   "source": [
    "**Random Forest classifier after hyperparameter tuning**"
   ]
  },
  {
   "cell_type": "code",
   "execution_count": null,
   "id": "8df2c18a",
   "metadata": {},
   "outputs": [
    {
     "name": "stdout",
     "output_type": "stream",
     "text": [
      "train score: 0.88\n",
      "test score: 0.89\n"
     ]
    }
   ],
   "source": [
    "rfc = RandomForestClassifier(max_features=4,max_leaf_nodes=5,random_state = 0)\n",
    "rfc.fit(X_train,y_train)\n",
    "print('train score: {:.2f}'.format(rfc.score(X_train,y_train)))\n",
    "print('test score: {:.2f}'.format(rfc.score(X_test,y_test)))\n",
    "rfc_y_pred = rfc.predict(X_test)"
   ]
  },
  {
   "cell_type": "code",
   "execution_count": null,
   "id": "7739b1f6",
   "metadata": {
    "scrolled": true
   },
   "outputs": [
    {
     "name": "stdout",
     "output_type": "stream",
     "text": [
      "              precision    recall  f1-score   support\n",
      "\n",
      "           0       0.91      0.94      0.93       123\n",
      "           1       0.79      0.70      0.74        37\n",
      "\n",
      "    accuracy                           0.89       160\n",
      "   macro avg       0.85      0.82      0.84       160\n",
      "weighted avg       0.88      0.89      0.89       160\n",
      "\n"
     ]
    }
   ],
   "source": [
    "print(classification_report(y_test,rfc_y_pred))"
   ]
  },
  {
   "cell_type": "code",
   "execution_count": null,
   "id": "1c52752a",
   "metadata": {},
   "outputs": [],
   "source": []
  },
  {
   "cell_type": "markdown",
   "id": "cdbd6309",
   "metadata": {},
   "source": [
    "## Support Vector Machine"
   ]
  },
  {
   "cell_type": "markdown",
   "id": "84729b95",
   "metadata": {},
   "source": [
    "**Support Vector Classifier before hyperparameter tuning**"
   ]
  },
  {
   "cell_type": "code",
   "execution_count": null,
   "id": "102e0df6",
   "metadata": {
    "scrolled": true
   },
   "outputs": [
    {
     "name": "stdout",
     "output_type": "stream",
     "text": [
      "train score: 0.92\n",
      "test score: 0.88\n"
     ]
    }
   ],
   "source": [
    "svc = Pipeline([('Scaler', StandardScaler()), ('SVC',SVC(probability=True))])\n",
    "svc_model = svc.fit(X_train, y_train)\n",
    "print('train score: {:.2f}'.format(svc_model.score(X_train,y_train)))\n",
    "print('test score: {:.2f}'.format(svc_model.score(X_test,y_test)))"
   ]
  },
  {
   "cell_type": "markdown",
   "id": "b424783b",
   "metadata": {},
   "source": [
    "**Hyperparameter tuning for Support Vector Classifier**"
   ]
  },
  {
   "cell_type": "code",
   "execution_count": null,
   "id": "63049746",
   "metadata": {},
   "outputs": [
    {
     "name": "stdout",
     "output_type": "stream",
     "text": [
      "Best cross-validation acuracy: 0.88\n",
      "Best train score: 0.88\n",
      "Best test score: 0.88\n",
      "Best parameters: {'SVC__C': 1, 'SVC__gamma': 0.001}\n"
     ]
    }
   ],
   "source": [
    "pipe = Pipeline([('Scaler',StandardScaler()),('SVC',SVC(probability=True))])\n",
    "param_grid = {'SVC__C':[0.001,0.01,0.1,1,10,100],\n",
    "            'SVC__gamma':[0.001,0.01,0.1,1,10,100]}\n",
    "grid = GridSearchCV(pipe, param_grid = param_grid,cv =5)\n",
    "grid.fit(X_train,y_train)\n",
    "print('Best cross-validation acuracy: {:.2f}'.format(grid.best_score_))\n",
    "print('Best train score: {:.2f}'.format(grid.score(X_train,y_train)))\n",
    "print('Best test score: {:.2f}'.format(grid.score(X_test,y_test)))\n",
    "print('Best parameters:',grid.best_params_)"
   ]
  },
  {
   "cell_type": "code",
   "execution_count": null,
   "id": "19d3d177",
   "metadata": {},
   "outputs": [],
   "source": []
  },
  {
   "cell_type": "markdown",
   "id": "4d5dd3d1",
   "metadata": {},
   "source": [
    "**Support Vector Classifier after hyperparameter tuning**"
   ]
  },
  {
   "cell_type": "code",
   "execution_count": null,
   "id": "61b9dba6",
   "metadata": {},
   "outputs": [
    {
     "name": "stdout",
     "output_type": "stream",
     "text": [
      "train score: 0.88\n",
      "test score: 0.88\n"
     ]
    }
   ],
   "source": [
    "svc = Pipeline([('Scaler',StandardScaler()),('SVC',SVC(C=1,gamma=0.001,probability=True))])\n",
    "svc_model = svc.fit(X_train,y_train)\n",
    "print('train score: {:.2f}'.format(svc_model.score(X_train,y_train)))\n",
    "print('test score: {:.2f}'.format(svc_model.score(X_test,y_test)))\n",
    "svc_y_pred = svc_model.predict(X_test)"
   ]
  },
  {
   "cell_type": "code",
   "execution_count": null,
   "id": "d8e76f55",
   "metadata": {
    "scrolled": true
   },
   "outputs": [
    {
     "name": "stdout",
     "output_type": "stream",
     "text": [
      "              precision    recall  f1-score   support\n",
      "\n",
      "           0       0.90      0.94      0.92       123\n",
      "           1       0.77      0.65      0.71        37\n",
      "\n",
      "    accuracy                           0.88       160\n",
      "   macro avg       0.84      0.80      0.81       160\n",
      "weighted avg       0.87      0.88      0.87       160\n",
      "\n"
     ]
    }
   ],
   "source": [
    "print(classification_report(y_test,svc_y_pred))"
   ]
  },
  {
   "cell_type": "markdown",
   "id": "322a2d01",
   "metadata": {},
   "source": [
    "## Logistic Regression"
   ]
  },
  {
   "cell_type": "markdown",
   "id": "f83e35f1",
   "metadata": {},
   "source": [
    "**Logistic Regression before hyperparameter tuning**"
   ]
  },
  {
   "cell_type": "code",
   "execution_count": null,
   "id": "e1b4b524",
   "metadata": {
    "scrolled": true
   },
   "outputs": [
    {
     "name": "stdout",
     "output_type": "stream",
     "text": [
      "train score: 0.88\n",
      "test score: 0.89\n"
     ]
    }
   ],
   "source": [
    "lgr = LogisticRegression()\n",
    "lgr.fit(X_train,y_train)\n",
    "print('train score: {:.2f}'.format(lgr.score(X_train,y_train)))\n",
    "print('test score: {:.2f}'.format(lgr.score(X_test,y_test)))"
   ]
  },
  {
   "cell_type": "markdown",
   "id": "50c556f1",
   "metadata": {},
   "source": [
    "**Hyperparameter Tuning Logistic Regression**"
   ]
  },
  {
   "cell_type": "code",
   "execution_count": null,
   "id": "c6df7696",
   "metadata": {
    "scrolled": true
   },
   "outputs": [
    {
     "name": "stdout",
     "output_type": "stream",
     "text": [
      "Best cross-validation acuracy: 0.87\n",
      "Best test score: 0.89\n",
      "Best parameters: {'C': 1}\n"
     ]
    }
   ],
   "source": [
    "# Hyperparameter tuning\n",
    "lr = LogisticRegression()\n",
    "param_grid = {'C': [1,2,3,4,5,6,7,8,9,10,11]}\n",
    "grid_lgr = GridSearchCV(lr, param_grid, cv=5)\n",
    "grid_lgr.fit(X_train,y_train)\n",
    "print('Best cross-validation acuracy: {:.2f}'.format(grid_lgr.best_score_))\n",
    "print('Best test score: {:.2f}'.format(grid_lgr.score(X_test,y_test)))\n",
    "print('Best parameters:',grid_lgr.best_params_)"
   ]
  },
  {
   "cell_type": "markdown",
   "id": "1734b3a7",
   "metadata": {},
   "source": [
    "**Logistic Regression after hyperparameter tuning**"
   ]
  },
  {
   "cell_type": "code",
   "execution_count": null,
   "id": "fb611234",
   "metadata": {
    "scrolled": true
   },
   "outputs": [
    {
     "name": "stdout",
     "output_type": "stream",
     "text": [
      "train score: 0.88\n",
      "test score: 0.89\n"
     ]
    }
   ],
   "source": [
    "# Logistic regression with tuned hyper-parameters\n",
    "\n",
    "lgr = LogisticRegression(C=1).fit(X_train,y_train)\n",
    "print('train score: {:.2f}'.format(lgr.score(X_train,y_train)))\n",
    "print('test score: {:.2f}'.format(lgr.score(X_test,y_test)))\n",
    "lgr_y_pred =lgr.predict(X_test)"
   ]
  },
  {
   "cell_type": "code",
   "execution_count": null,
   "id": "7e10b055",
   "metadata": {
    "scrolled": true
   },
   "outputs": [
    {
     "name": "stdout",
     "output_type": "stream",
     "text": [
      "              precision    recall  f1-score   support\n",
      "\n",
      "           0       0.94      0.91      0.93       123\n",
      "           1       0.73      0.81      0.77        37\n",
      "\n",
      "    accuracy                           0.89       160\n",
      "   macro avg       0.84      0.86      0.85       160\n",
      "weighted avg       0.89      0.89      0.89       160\n",
      "\n"
     ]
    }
   ],
   "source": [
    "print(classification_report(y_test,lgr_y_pred))"
   ]
  },
  {
   "cell_type": "markdown",
   "id": "5b8836d8",
   "metadata": {},
   "source": [
    "## Ada Boost Classifier"
   ]
  },
  {
   "cell_type": "code",
   "execution_count": null,
   "id": "edda48a6",
   "metadata": {},
   "outputs": [
    {
     "name": "stdout",
     "output_type": "stream",
     "text": [
      "Train accuracy of AdaBoostClassifier: 0.886\n",
      "Test accuracy of AdaBoostClassifier: 0.850\n"
     ]
    }
   ],
   "source": [
    "# Instantiate a decition tree classifier\n",
    "dt=DecisionTreeClassifier(max_depth=1,max_leaf_nodes=2,random_state=42)\n",
    "\n",
    "# Instantiate an AdaBoost classifier\n",
    "adb_clf = AdaBoostClassifier(base_estimator=dt, n_estimators=100,random_state=0)\n",
    "\n",
    "# Fit 'adb_clf' to the training set\n",
    "adb_clf.fit(X_train,y_train)\n",
    "adb_y_pred = adb_clf.predict(X_test)\n",
    "print('Train accuracy of AdaBoostClassifier: {:.3f}'.format(adb_clf.score(X_train,y_train)))\n",
    "print('Test accuracy of AdaBoostClassifier: {:.3f}'.format(adb_clf.score(X_test,y_test)))\n"
   ]
  },
  {
   "cell_type": "code",
   "execution_count": null,
   "id": "d11435f5",
   "metadata": {},
   "outputs": [
    {
     "name": "stdout",
     "output_type": "stream",
     "text": [
      "              precision    recall  f1-score   support\n",
      "\n",
      "           0       0.92      0.89      0.90       123\n",
      "           1       0.66      0.73      0.69        37\n",
      "\n",
      "    accuracy                           0.85       160\n",
      "   macro avg       0.79      0.81      0.80       160\n",
      "weighted avg       0.86      0.85      0.85       160\n",
      "\n"
     ]
    }
   ],
   "source": [
    "print(classification_report(y_test,adb_y_pred))"
   ]
  },
  {
   "cell_type": "markdown",
   "id": "163e7e12",
   "metadata": {},
   "source": [
    "# 5.Model-Evaluation-and-Comparison"
   ]
  },
  {
   "cell_type": "code",
   "execution_count": null,
   "id": "be534037",
   "metadata": {},
   "outputs": [],
   "source": [
    "# 1. Random Forest\n",
    "rfc_train_score =rfc.score(X_train,y_train)\n",
    "rfc_test_score=rfc.score(X_test,y_test)\n",
    "rfc_f1_score=f1_score(y_test,rfc_y_pred)\n",
    "\n",
    "# 2. Support vector classifier\n",
    "svc_train_score =svc_model.score(X_train,y_train)\n",
    "svc_test_score=svc_model.score(X_test,y_test)\n",
    "svc_f1_score=f1_score(y_test,svc_y_pred)\n",
    "\n",
    "# 3. Logistic regression\n",
    "lgr_train_score = lgr.score(X_train,y_train)\n",
    "lgr_test_score = lgr.score(X_test,y_test)\n",
    "lgr_f1_score =f1_score(y_test,lgr_y_pred)\n",
    "\n",
    "# 4. Ada Boost\n",
    "adb_train_score=adb_clf.score(X_train,y_train)\n",
    "adb_test_score=adb_clf.score(X_test,y_test)\n",
    "adb_f1_score=f1_score(y_test,adb_y_pred)\n"
   ]
  },
  {
   "cell_type": "code",
   "execution_count": null,
   "id": "1e24f528",
   "metadata": {},
   "outputs": [],
   "source": [
    "Model =['Random Forest','SVC','Logistic regression','Ada Boost']\n",
    "\n",
    "Train_accuracy = [rfc_train_score,svc_train_score,lgr_train_score,adb_train_score]\n",
    "\n",
    "Test_accuracy = [rfc_test_score,svc_test_score,lgr_test_score,adb_test_score]\n",
    "\n",
    "F1_score = [rfc_f1_score,svc_f1_score,lgr_f1_score,adb_f1_score]\n"
   ]
  },
  {
   "cell_type": "code",
   "execution_count": null,
   "id": "74b8943a",
   "metadata": {},
   "outputs": [
    {
     "data": {
      "text/html": [
       "<div>\n",
       "<style scoped>\n",
       "    .dataframe tbody tr th:only-of-type {\n",
       "        vertical-align: middle;\n",
       "    }\n",
       "\n",
       "    .dataframe tbody tr th {\n",
       "        vertical-align: top;\n",
       "    }\n",
       "\n",
       "    .dataframe thead th {\n",
       "        text-align: right;\n",
       "    }\n",
       "</style>\n",
       "<table border=\"1\" class=\"dataframe\">\n",
       "  <thead>\n",
       "    <tr style=\"text-align: right;\">\n",
       "      <th></th>\n",
       "      <th>Train_accuracy</th>\n",
       "      <th>Test_accuracy</th>\n",
       "      <th>F1_score</th>\n",
       "    </tr>\n",
       "    <tr>\n",
       "      <th>Model</th>\n",
       "      <th></th>\n",
       "      <th></th>\n",
       "      <th></th>\n",
       "    </tr>\n",
       "  </thead>\n",
       "  <tbody>\n",
       "    <tr>\n",
       "      <th>Random Forest</th>\n",
       "      <td>0.881250</td>\n",
       "      <td>0.8875</td>\n",
       "      <td>0.742857</td>\n",
       "    </tr>\n",
       "    <tr>\n",
       "      <th>Logistic regression</th>\n",
       "      <td>0.878125</td>\n",
       "      <td>0.8875</td>\n",
       "      <td>0.769231</td>\n",
       "    </tr>\n",
       "    <tr>\n",
       "      <th>SVC</th>\n",
       "      <td>0.915625</td>\n",
       "      <td>0.8750</td>\n",
       "      <td>0.705882</td>\n",
       "    </tr>\n",
       "    <tr>\n",
       "      <th>Ada Boost</th>\n",
       "      <td>0.885938</td>\n",
       "      <td>0.8500</td>\n",
       "      <td>0.692308</td>\n",
       "    </tr>\n",
       "  </tbody>\n",
       "</table>\n",
       "</div>"
      ],
      "text/plain": [
       "                     Train_accuracy  Test_accuracy  F1_score\n",
       "Model                                                       \n",
       "Random Forest              0.881250         0.8875  0.742857\n",
       "Logistic regression        0.878125         0.8875  0.769231\n",
       "SVC                        0.915625         0.8750  0.705882\n",
       "Ada Boost                  0.885938         0.8500  0.692308"
      ]
     },
     "execution_count": 736,
     "metadata": {},
     "output_type": "execute_result"
    }
   ],
   "source": [
    "#Creating the DataFrame\n",
    "\n",
    "Accuracy_f1_score_report=pd.DataFrame({'Model':Model,\n",
    "                                        'Train_accuracy':Train_accuracy,\n",
    "                                        'Test_accuracy':Test_accuracy,\n",
    "                                        'F1_score':F1_score},\n",
    "                                       index=np.arange(1,5,1))\n",
    "\n",
    "#Sorting by fi_score\n",
    "Accuracy_f1_score_report.sort_values(by='Test_accuracy',\n",
    "                                     ascending=False,\n",
    "                                     inplace=True,\n",
    "                                     ignore_index=True)\n",
    "\n",
    "\n",
    "Accuracy_f1_score_report.set_index('Model')\n",
    "\n",
    "\n",
    " "
   ]
  },
  {
   "cell_type": "markdown",
   "id": "2887b472",
   "metadata": {},
   "source": [
    "+ From our dataframe of accuracies and f1_scores from various models, we realize that the Random Forest and Logistic Regression models give the best accuracies and we decided on random forest is for the predictions"
   ]
  },
  {
   "cell_type": "markdown",
   "id": "a81da079",
   "metadata": {},
   "source": [
    "# 6.Implementing-the-Best-Model-on-the-Test-Data"
   ]
  },
  {
   "cell_type": "code",
   "execution_count": null,
   "id": "b1d192e1",
   "metadata": {},
   "outputs": [],
   "source": [
    "test_data = pd.read_csv(r\"test.csv\")"
   ]
  },
  {
   "cell_type": "code",
   "execution_count": null,
   "id": "58292083",
   "metadata": {
    "scrolled": true
   },
   "outputs": [
    {
     "data": {
      "text/html": [
       "<div>\n",
       "<style scoped>\n",
       "    .dataframe tbody tr th:only-of-type {\n",
       "        vertical-align: middle;\n",
       "    }\n",
       "\n",
       "    .dataframe tbody tr th {\n",
       "        vertical-align: top;\n",
       "    }\n",
       "\n",
       "    .dataframe thead th {\n",
       "        text-align: right;\n",
       "    }\n",
       "</style>\n",
       "<table border=\"1\" class=\"dataframe\">\n",
       "  <thead>\n",
       "    <tr style=\"text-align: right;\">\n",
       "      <th></th>\n",
       "      <th>ID</th>\n",
       "      <th>A1_Score</th>\n",
       "      <th>A2_Score</th>\n",
       "      <th>A3_Score</th>\n",
       "      <th>A4_Score</th>\n",
       "      <th>A5_Score</th>\n",
       "      <th>A6_Score</th>\n",
       "      <th>A7_Score</th>\n",
       "      <th>A8_Score</th>\n",
       "      <th>A9_Score</th>\n",
       "      <th>...</th>\n",
       "      <th>age</th>\n",
       "      <th>gender</th>\n",
       "      <th>ethnicity</th>\n",
       "      <th>jaundice</th>\n",
       "      <th>austim</th>\n",
       "      <th>contry_of_res</th>\n",
       "      <th>used_app_before</th>\n",
       "      <th>result</th>\n",
       "      <th>age_desc</th>\n",
       "      <th>relation</th>\n",
       "    </tr>\n",
       "  </thead>\n",
       "  <tbody>\n",
       "    <tr>\n",
       "      <th>0</th>\n",
       "      <td>1</td>\n",
       "      <td>0</td>\n",
       "      <td>0</td>\n",
       "      <td>0</td>\n",
       "      <td>0</td>\n",
       "      <td>0</td>\n",
       "      <td>0</td>\n",
       "      <td>0</td>\n",
       "      <td>1</td>\n",
       "      <td>0</td>\n",
       "      <td>...</td>\n",
       "      <td>13.445319</td>\n",
       "      <td>m</td>\n",
       "      <td>Asian</td>\n",
       "      <td>no</td>\n",
       "      <td>no</td>\n",
       "      <td>United Arab Emirates</td>\n",
       "      <td>no</td>\n",
       "      <td>-0.914467</td>\n",
       "      <td>18 and more</td>\n",
       "      <td>?</td>\n",
       "    </tr>\n",
       "    <tr>\n",
       "      <th>1</th>\n",
       "      <td>2</td>\n",
       "      <td>1</td>\n",
       "      <td>0</td>\n",
       "      <td>0</td>\n",
       "      <td>0</td>\n",
       "      <td>1</td>\n",
       "      <td>0</td>\n",
       "      <td>0</td>\n",
       "      <td>0</td>\n",
       "      <td>0</td>\n",
       "      <td>...</td>\n",
       "      <td>25.057229</td>\n",
       "      <td>f</td>\n",
       "      <td>?</td>\n",
       "      <td>yes</td>\n",
       "      <td>no</td>\n",
       "      <td>New Zealand</td>\n",
       "      <td>no</td>\n",
       "      <td>4.553447</td>\n",
       "      <td>18 and more</td>\n",
       "      <td>Parent</td>\n",
       "    </tr>\n",
       "    <tr>\n",
       "      <th>2</th>\n",
       "      <td>3</td>\n",
       "      <td>1</td>\n",
       "      <td>0</td>\n",
       "      <td>0</td>\n",
       "      <td>1</td>\n",
       "      <td>0</td>\n",
       "      <td>1</td>\n",
       "      <td>0</td>\n",
       "      <td>1</td>\n",
       "      <td>0</td>\n",
       "      <td>...</td>\n",
       "      <td>28.799885</td>\n",
       "      <td>f</td>\n",
       "      <td>Asian</td>\n",
       "      <td>no</td>\n",
       "      <td>no</td>\n",
       "      <td>Austria</td>\n",
       "      <td>no</td>\n",
       "      <td>-1.581115</td>\n",
       "      <td>18 and more</td>\n",
       "      <td>Self</td>\n",
       "    </tr>\n",
       "    <tr>\n",
       "      <th>3</th>\n",
       "      <td>4</td>\n",
       "      <td>1</td>\n",
       "      <td>1</td>\n",
       "      <td>1</td>\n",
       "      <td>0</td>\n",
       "      <td>1</td>\n",
       "      <td>0</td>\n",
       "      <td>1</td>\n",
       "      <td>0</td>\n",
       "      <td>1</td>\n",
       "      <td>...</td>\n",
       "      <td>16.501526</td>\n",
       "      <td>f</td>\n",
       "      <td>Middle Eastern</td>\n",
       "      <td>yes</td>\n",
       "      <td>no</td>\n",
       "      <td>Bahamas</td>\n",
       "      <td>no</td>\n",
       "      <td>11.779210</td>\n",
       "      <td>18 and more</td>\n",
       "      <td>Relative</td>\n",
       "    </tr>\n",
       "    <tr>\n",
       "      <th>4</th>\n",
       "      <td>5</td>\n",
       "      <td>1</td>\n",
       "      <td>0</td>\n",
       "      <td>0</td>\n",
       "      <td>1</td>\n",
       "      <td>1</td>\n",
       "      <td>0</td>\n",
       "      <td>0</td>\n",
       "      <td>1</td>\n",
       "      <td>1</td>\n",
       "      <td>...</td>\n",
       "      <td>54.223869</td>\n",
       "      <td>f</td>\n",
       "      <td>White-European</td>\n",
       "      <td>no</td>\n",
       "      <td>no</td>\n",
       "      <td>Australia</td>\n",
       "      <td>no</td>\n",
       "      <td>10.717321</td>\n",
       "      <td>18 and more</td>\n",
       "      <td>Self</td>\n",
       "    </tr>\n",
       "  </tbody>\n",
       "</table>\n",
       "<p>5 rows × 21 columns</p>\n",
       "</div>"
      ],
      "text/plain": [
       "   ID  A1_Score  A2_Score  A3_Score  A4_Score  A5_Score  A6_Score  A7_Score  \\\n",
       "0   1         0         0         0         0         0         0         0   \n",
       "1   2         1         0         0         0         1         0         0   \n",
       "2   3         1         0         0         1         0         1         0   \n",
       "3   4         1         1         1         0         1         0         1   \n",
       "4   5         1         0         0         1         1         0         0   \n",
       "\n",
       "   A8_Score  A9_Score  ...        age  gender        ethnicity jaundice  \\\n",
       "0         1         0  ...  13.445319       m            Asian       no   \n",
       "1         0         0  ...  25.057229       f                ?      yes   \n",
       "2         1         0  ...  28.799885       f            Asian       no   \n",
       "3         0         1  ...  16.501526       f  Middle Eastern       yes   \n",
       "4         1         1  ...  54.223869       f   White-European       no   \n",
       "\n",
       "  austim         contry_of_res used_app_before     result     age_desc  \\\n",
       "0     no  United Arab Emirates              no  -0.914467  18 and more   \n",
       "1     no           New Zealand              no   4.553447  18 and more   \n",
       "2     no               Austria              no  -1.581115  18 and more   \n",
       "3     no               Bahamas              no  11.779210  18 and more   \n",
       "4     no             Australia              no  10.717321  18 and more   \n",
       "\n",
       "   relation  \n",
       "0         ?  \n",
       "1    Parent  \n",
       "2      Self  \n",
       "3  Relative  \n",
       "4      Self  \n",
       "\n",
       "[5 rows x 21 columns]"
      ]
     },
     "execution_count": 747,
     "metadata": {},
     "output_type": "execute_result"
    }
   ],
   "source": [
    "# prepocessing the test data\n",
    "test_data.head()"
   ]
  },
  {
   "cell_type": "code",
   "execution_count": null,
   "id": "fe06e2e8",
   "metadata": {},
   "outputs": [
    {
     "name": "stdout",
     "output_type": "stream",
     "text": [
      "The test dataset has 200 rows and 21 columns\n"
     ]
    }
   ],
   "source": [
    "print(f\"The test dataset has {test_data.shape[0]} rows and {test_data.shape[1]} columns\")"
   ]
  },
  {
   "cell_type": "code",
   "execution_count": null,
   "id": "8debafd9",
   "metadata": {},
   "outputs": [],
   "source": [
    "test_data = test_data.rename(columns = {'austim': 'autism', 'contry_of_res':'country_of_res'}, errors=\"raise\")"
   ]
  },
  {
   "cell_type": "code",
   "execution_count": null,
   "id": "a8920017",
   "metadata": {},
   "outputs": [],
   "source": [
    "test_data['age'] = test_data['age'].astype('int')"
   ]
  },
  {
   "cell_type": "code",
   "execution_count": null,
   "id": "2b94552f",
   "metadata": {
    "scrolled": false
   },
   "outputs": [
    {
     "data": {
      "text/plain": [
       "ID                 0\n",
       "A1_Score           0\n",
       "A2_Score           0\n",
       "A3_Score           0\n",
       "A4_Score           0\n",
       "A5_Score           0\n",
       "A6_Score           0\n",
       "A7_Score           0\n",
       "A8_Score           0\n",
       "A9_Score           0\n",
       "A10_Score          0\n",
       "age                0\n",
       "gender             0\n",
       "ethnicity          0\n",
       "jaundice           0\n",
       "autism             0\n",
       "country_of_res     0\n",
       "used_app_before    0\n",
       "result             0\n",
       "age_desc           0\n",
       "relation           0\n",
       "dtype: int64"
      ]
     },
     "execution_count": 751,
     "metadata": {},
     "output_type": "execute_result"
    }
   ],
   "source": [
    "test_data.isnull().sum()"
   ]
  },
  {
   "cell_type": "code",
   "execution_count": null,
   "id": "3cd4d862",
   "metadata": {},
   "outputs": [],
   "source": [
    "# dropping columns that were dropped in training data\n",
    "\n",
    "test_data.drop(['ID', 'age_desc','country_of_res', 'used_app_before', 'relation', 'ethnicity', 'result'], axis=1, inplace=True)"
   ]
  },
  {
   "cell_type": "code",
   "execution_count": null,
   "id": "d7cc9c84",
   "metadata": {},
   "outputs": [
    {
     "data": {
      "text/plain": [
       "A1_Score      int64\n",
       "A2_Score      int64\n",
       "A3_Score      int64\n",
       "A4_Score      int64\n",
       "A5_Score      int64\n",
       "A6_Score      int64\n",
       "A7_Score      int64\n",
       "A8_Score      int64\n",
       "A9_Score      int64\n",
       "A10_Score     int64\n",
       "age           int32\n",
       "gender       object\n",
       "jaundice     object\n",
       "autism       object\n",
       "dtype: object"
      ]
     },
     "execution_count": 753,
     "metadata": {},
     "output_type": "execute_result"
    }
   ],
   "source": [
    "test_data.dtypes"
   ]
  },
  {
   "cell_type": "code",
   "execution_count": null,
   "id": "2469211e",
   "metadata": {},
   "outputs": [
    {
     "data": {
      "text/html": [
       "<div>\n",
       "<style scoped>\n",
       "    .dataframe tbody tr th:only-of-type {\n",
       "        vertical-align: middle;\n",
       "    }\n",
       "\n",
       "    .dataframe tbody tr th {\n",
       "        vertical-align: top;\n",
       "    }\n",
       "\n",
       "    .dataframe thead th {\n",
       "        text-align: right;\n",
       "    }\n",
       "</style>\n",
       "<table border=\"1\" class=\"dataframe\">\n",
       "  <thead>\n",
       "    <tr style=\"text-align: right;\">\n",
       "      <th></th>\n",
       "      <th>A1_Score</th>\n",
       "      <th>A2_Score</th>\n",
       "      <th>A3_Score</th>\n",
       "      <th>A4_Score</th>\n",
       "      <th>A5_Score</th>\n",
       "      <th>A6_Score</th>\n",
       "      <th>A7_Score</th>\n",
       "      <th>A8_Score</th>\n",
       "      <th>A9_Score</th>\n",
       "      <th>A10_Score</th>\n",
       "      <th>age</th>\n",
       "      <th>gender</th>\n",
       "      <th>jaundice</th>\n",
       "      <th>autism</th>\n",
       "    </tr>\n",
       "  </thead>\n",
       "  <tbody>\n",
       "    <tr>\n",
       "      <th>0</th>\n",
       "      <td>0</td>\n",
       "      <td>0</td>\n",
       "      <td>0</td>\n",
       "      <td>0</td>\n",
       "      <td>0</td>\n",
       "      <td>0</td>\n",
       "      <td>0</td>\n",
       "      <td>1</td>\n",
       "      <td>0</td>\n",
       "      <td>0</td>\n",
       "      <td>13</td>\n",
       "      <td>m</td>\n",
       "      <td>no</td>\n",
       "      <td>no</td>\n",
       "    </tr>\n",
       "    <tr>\n",
       "      <th>1</th>\n",
       "      <td>1</td>\n",
       "      <td>0</td>\n",
       "      <td>0</td>\n",
       "      <td>0</td>\n",
       "      <td>1</td>\n",
       "      <td>0</td>\n",
       "      <td>0</td>\n",
       "      <td>0</td>\n",
       "      <td>0</td>\n",
       "      <td>0</td>\n",
       "      <td>25</td>\n",
       "      <td>f</td>\n",
       "      <td>yes</td>\n",
       "      <td>no</td>\n",
       "    </tr>\n",
       "    <tr>\n",
       "      <th>2</th>\n",
       "      <td>1</td>\n",
       "      <td>0</td>\n",
       "      <td>0</td>\n",
       "      <td>1</td>\n",
       "      <td>0</td>\n",
       "      <td>1</td>\n",
       "      <td>0</td>\n",
       "      <td>1</td>\n",
       "      <td>0</td>\n",
       "      <td>0</td>\n",
       "      <td>28</td>\n",
       "      <td>f</td>\n",
       "      <td>no</td>\n",
       "      <td>no</td>\n",
       "    </tr>\n",
       "    <tr>\n",
       "      <th>3</th>\n",
       "      <td>1</td>\n",
       "      <td>1</td>\n",
       "      <td>1</td>\n",
       "      <td>0</td>\n",
       "      <td>1</td>\n",
       "      <td>0</td>\n",
       "      <td>1</td>\n",
       "      <td>0</td>\n",
       "      <td>1</td>\n",
       "      <td>1</td>\n",
       "      <td>16</td>\n",
       "      <td>f</td>\n",
       "      <td>yes</td>\n",
       "      <td>no</td>\n",
       "    </tr>\n",
       "    <tr>\n",
       "      <th>4</th>\n",
       "      <td>1</td>\n",
       "      <td>0</td>\n",
       "      <td>0</td>\n",
       "      <td>1</td>\n",
       "      <td>1</td>\n",
       "      <td>0</td>\n",
       "      <td>0</td>\n",
       "      <td>1</td>\n",
       "      <td>1</td>\n",
       "      <td>0</td>\n",
       "      <td>54</td>\n",
       "      <td>f</td>\n",
       "      <td>no</td>\n",
       "      <td>no</td>\n",
       "    </tr>\n",
       "  </tbody>\n",
       "</table>\n",
       "</div>"
      ],
      "text/plain": [
       "   A1_Score  A2_Score  A3_Score  A4_Score  A5_Score  A6_Score  A7_Score  \\\n",
       "0         0         0         0         0         0         0         0   \n",
       "1         1         0         0         0         1         0         0   \n",
       "2         1         0         0         1         0         1         0   \n",
       "3         1         1         1         0         1         0         1   \n",
       "4         1         0         0         1         1         0         0   \n",
       "\n",
       "   A8_Score  A9_Score  A10_Score  age gender jaundice autism  \n",
       "0         1         0          0   13      m       no     no  \n",
       "1         0         0          0   25      f      yes     no  \n",
       "2         1         0          0   28      f       no     no  \n",
       "3         0         1          1   16      f      yes     no  \n",
       "4         1         1          0   54      f       no     no  "
      ]
     },
     "execution_count": 754,
     "metadata": {},
     "output_type": "execute_result"
    }
   ],
   "source": [
    "test_data.head()\n"
   ]
  },
  {
   "cell_type": "code",
   "execution_count": null,
   "id": "7e06bb22",
   "metadata": {},
   "outputs": [],
   "source": [
    "test_data = pd.get_dummies(test_data, columns = ['gender',\n",
    "                                                   'jaundice',\n",
    "                                                'autism'],\n",
    "                            drop_first = True)"
   ]
  },
  {
   "cell_type": "code",
   "execution_count": null,
   "id": "8222dc6f",
   "metadata": {},
   "outputs": [],
   "source": [
    "assert (X_train.columns == test_data.columns).all()\n"
   ]
  },
  {
   "cell_type": "code",
   "execution_count": null,
   "id": "21f0b907",
   "metadata": {},
   "outputs": [],
   "source": [
    "test_pred = rfc.predict(test_data)"
   ]
  },
  {
   "cell_type": "code",
   "execution_count": null,
   "id": "f8ce01b1",
   "metadata": {},
   "outputs": [
    {
     "data": {
      "text/plain": [
       "array([0, 0, 0, 0, 0, 0, 0, 0, 0, 0, 0, 0, 1, 0, 1, 0, 1, 0, 1, 1, 0, 0,\n",
       "       0, 0, 0, 0, 0, 0, 0, 0, 0, 0, 0, 1, 0, 0, 0, 0, 0, 0, 1, 1, 1, 1,\n",
       "       0, 0, 0, 1, 0, 1, 0, 0, 0, 0, 1, 0, 0, 0, 0, 1, 0, 1, 0, 0, 0, 1,\n",
       "       1, 0, 1, 0, 0, 0, 0, 0, 1, 0, 0, 1, 0, 0, 0, 1, 0, 0, 0, 1, 0, 0,\n",
       "       1, 0, 0, 1, 0, 0, 0, 0, 0, 0, 1, 0, 0, 0, 1, 0, 0, 1, 0, 0, 0, 0,\n",
       "       0, 0, 0, 1, 0, 0, 0, 1, 0, 0, 0, 0, 0, 1, 0, 0, 0, 0, 0, 0, 0, 0,\n",
       "       0, 0, 0, 0, 0, 0, 0, 1, 0, 0, 0, 0, 0, 0, 0, 0, 0, 0, 0, 0, 0, 0,\n",
       "       0, 0, 0, 0, 0, 0, 0, 0, 0, 0, 1, 0, 1, 0, 0, 0, 0, 0, 0, 1, 0, 0,\n",
       "       0, 0, 1, 0, 0, 0, 0, 0, 0, 1, 0, 0, 0, 0, 0, 0, 0, 0, 0, 0, 0, 0,\n",
       "       1, 0], dtype=int64)"
      ]
     },
     "execution_count": 758,
     "metadata": {},
     "output_type": "execute_result"
    }
   ],
   "source": [
    "test_pred"
   ]
  },
  {
   "cell_type": "code",
   "execution_count": null,
   "id": "ce8b5c9c",
   "metadata": {},
   "outputs": [],
   "source": [
    "test_data['Prediction'] = test_pred"
   ]
  },
  {
   "cell_type": "code",
   "execution_count": null,
   "id": "6cbf5ec0",
   "metadata": {
    "scrolled": true
   },
   "outputs": [
    {
     "data": {
      "text/plain": [
       "0    163\n",
       "1     37\n",
       "Name: Prediction, dtype: int64"
      ]
     },
     "execution_count": 760,
     "metadata": {},
     "output_type": "execute_result"
    }
   ],
   "source": [
    "test_data['Prediction'].value_counts()"
   ]
  },
  {
   "cell_type": "code",
   "execution_count": null,
   "id": "a487615f",
   "metadata": {},
   "outputs": [
    {
     "data": {
      "text/html": [
       "<div>\n",
       "<style scoped>\n",
       "    .dataframe tbody tr th:only-of-type {\n",
       "        vertical-align: middle;\n",
       "    }\n",
       "\n",
       "    .dataframe tbody tr th {\n",
       "        vertical-align: top;\n",
       "    }\n",
       "\n",
       "    .dataframe thead th {\n",
       "        text-align: right;\n",
       "    }\n",
       "</style>\n",
       "<table border=\"1\" class=\"dataframe\">\n",
       "  <thead>\n",
       "    <tr style=\"text-align: right;\">\n",
       "      <th></th>\n",
       "      <th>A1_Score</th>\n",
       "      <th>A2_Score</th>\n",
       "      <th>A3_Score</th>\n",
       "      <th>A4_Score</th>\n",
       "      <th>A5_Score</th>\n",
       "      <th>A6_Score</th>\n",
       "      <th>A7_Score</th>\n",
       "      <th>A8_Score</th>\n",
       "      <th>A9_Score</th>\n",
       "      <th>A10_Score</th>\n",
       "      <th>age</th>\n",
       "      <th>gender_m</th>\n",
       "      <th>jaundice_yes</th>\n",
       "      <th>autism_yes</th>\n",
       "    </tr>\n",
       "  </thead>\n",
       "  <tbody>\n",
       "    <tr>\n",
       "      <th>464</th>\n",
       "      <td>0</td>\n",
       "      <td>0</td>\n",
       "      <td>0</td>\n",
       "      <td>0</td>\n",
       "      <td>0</td>\n",
       "      <td>0</td>\n",
       "      <td>0</td>\n",
       "      <td>0</td>\n",
       "      <td>0</td>\n",
       "      <td>0</td>\n",
       "      <td>39</td>\n",
       "      <td>1</td>\n",
       "      <td>0</td>\n",
       "      <td>0</td>\n",
       "    </tr>\n",
       "    <tr>\n",
       "      <th>445</th>\n",
       "      <td>1</td>\n",
       "      <td>1</td>\n",
       "      <td>1</td>\n",
       "      <td>1</td>\n",
       "      <td>1</td>\n",
       "      <td>1</td>\n",
       "      <td>1</td>\n",
       "      <td>1</td>\n",
       "      <td>1</td>\n",
       "      <td>1</td>\n",
       "      <td>44</td>\n",
       "      <td>0</td>\n",
       "      <td>1</td>\n",
       "      <td>0</td>\n",
       "    </tr>\n",
       "    <tr>\n",
       "      <th>358</th>\n",
       "      <td>0</td>\n",
       "      <td>0</td>\n",
       "      <td>0</td>\n",
       "      <td>0</td>\n",
       "      <td>0</td>\n",
       "      <td>0</td>\n",
       "      <td>0</td>\n",
       "      <td>1</td>\n",
       "      <td>0</td>\n",
       "      <td>0</td>\n",
       "      <td>16</td>\n",
       "      <td>0</td>\n",
       "      <td>0</td>\n",
       "      <td>0</td>\n",
       "    </tr>\n",
       "    <tr>\n",
       "      <th>177</th>\n",
       "      <td>0</td>\n",
       "      <td>0</td>\n",
       "      <td>0</td>\n",
       "      <td>0</td>\n",
       "      <td>1</td>\n",
       "      <td>0</td>\n",
       "      <td>0</td>\n",
       "      <td>1</td>\n",
       "      <td>0</td>\n",
       "      <td>1</td>\n",
       "      <td>30</td>\n",
       "      <td>1</td>\n",
       "      <td>1</td>\n",
       "      <td>0</td>\n",
       "    </tr>\n",
       "    <tr>\n",
       "      <th>315</th>\n",
       "      <td>1</td>\n",
       "      <td>0</td>\n",
       "      <td>0</td>\n",
       "      <td>0</td>\n",
       "      <td>0</td>\n",
       "      <td>0</td>\n",
       "      <td>1</td>\n",
       "      <td>1</td>\n",
       "      <td>0</td>\n",
       "      <td>0</td>\n",
       "      <td>31</td>\n",
       "      <td>0</td>\n",
       "      <td>0</td>\n",
       "      <td>0</td>\n",
       "    </tr>\n",
       "  </tbody>\n",
       "</table>\n",
       "</div>"
      ],
      "text/plain": [
       "     A1_Score  A2_Score  A3_Score  A4_Score  A5_Score  A6_Score  A7_Score  \\\n",
       "464         0         0         0         0         0         0         0   \n",
       "445         1         1         1         1         1         1         1   \n",
       "358         0         0         0         0         0         0         0   \n",
       "177         0         0         0         0         1         0         0   \n",
       "315         1         0         0         0         0         0         1   \n",
       "\n",
       "     A8_Score  A9_Score  A10_Score  age  gender_m  jaundice_yes  autism_yes  \n",
       "464         0         0          0   39         1             0           0  \n",
       "445         1         1          1   44         0             1           0  \n",
       "358         1         0          0   16         0             0           0  \n",
       "177         1         0          1   30         1             1           0  \n",
       "315         1         0          0   31         0             0           0  "
      ]
     },
     "execution_count": 761,
     "metadata": {},
     "output_type": "execute_result"
    }
   ],
   "source": [
    "X_train.head()"
   ]
  },
  {
   "cell_type": "code",
   "execution_count": null,
   "id": "5110a5cc",
   "metadata": {},
   "outputs": [],
   "source": [
    "X_train.to_excel('X_train.xlsx',index=False)"
   ]
  },
  {
   "cell_type": "code",
   "execution_count": null,
   "id": "51c8abc0",
   "metadata": {},
   "outputs": [],
   "source": [
    "X_test.to_excel('X_test.xlsx',index=False)"
   ]
  },
  {
   "cell_type": "code",
   "execution_count": null,
   "id": "5ee0e067",
   "metadata": {},
   "outputs": [],
   "source": [
    "y_train.to_excel('y_train.xlsx',index=False)"
   ]
  },
  {
   "cell_type": "code",
   "execution_count": null,
   "id": "3361ed04",
   "metadata": {},
   "outputs": [],
   "source": [
    "y_train.to_excel('y_test.xlsx',index=False)"
   ]
  },
  {
   "cell_type": "code",
   "execution_count": null,
   "id": "43860707",
   "metadata": {},
   "outputs": [],
   "source": [
    "import pickle\n",
    "pickle.dump(rfc,open('rf_model.pickle', 'wb'))"
   ]
  },
  {
   "cell_type": "code",
   "execution_count": null,
   "id": "cad5abe2",
   "metadata": {},
   "outputs": [],
   "source": []
  },
  {
   "cell_type": "markdown",
   "id": "4ab2887c",
   "metadata": {},
   "source": [
    "# 8.Summary"
   ]
  },
  {
   "cell_type": "markdown",
   "id": "34428d55",
   "metadata": {},
   "source": [
    "In summary, to get the best classification model, Exploratory Data Analysis was carried out to help select input features for building models.\n",
    "\n",
    "There were no missing values found so no rows had to be dropped. \n",
    "\n",
    "The original train dataset was split into train and test for building and validating models respectively.\n",
    "\n",
    "After comparing the different classification models using F1score, and accuracy, the Random Forest model and the Support Vector Classifier models emerged as the top performing models.\n",
    "\n",
    "The Random Forest model was however chosen and used to predict patients who had Autism Spectrum Disorder and those who did not in the test data and we found that 163 were negative and 37 were positive."
   ]
  },
  {
   "cell_type": "markdown",
   "id": "a589036c",
   "metadata": {},
   "source": [
    "## Thank You"
   ]
  },
  {
   "cell_type": "code",
   "execution_count": null,
   "id": "c8b74d1e",
   "metadata": {},
   "outputs": [],
   "source": []
  },
  {
   "cell_type": "code",
   "execution_count": null,
   "id": "27b5e702",
   "metadata": {},
   "outputs": [],
   "source": []
  },
  {
   "cell_type": "code",
   "execution_count": null,
   "id": "4323f491",
   "metadata": {},
   "outputs": [],
   "source": []
  },
  {
   "cell_type": "code",
   "execution_count": null,
   "id": "e0180dd6",
   "metadata": {},
   "outputs": [],
   "source": []
  },
  {
   "cell_type": "code",
   "execution_count": null,
   "id": "06a3f1ad",
   "metadata": {},
   "outputs": [],
   "source": []
  },
  {
   "cell_type": "code",
   "execution_count": null,
   "id": "e814265a",
   "metadata": {},
   "outputs": [],
   "source": []
  }
 ],
 "metadata": {
  "kernelspec": {
   "display_name": "Python 3",
   "language": "python",
   "name": "python3"
  },
  "language_info": {
   "codemirror_mode": {
    "name": "ipython",
    "version": 3
   },
   "file_extension": ".py",
   "mimetype": "text/x-python",
   "name": "python",
   "nbconvert_exporter": "python",
   "pygments_lexer": "ipython3",
   "version": "3.11.2"
  }
 },
 "nbformat": 4,
 "nbformat_minor": 5
}
